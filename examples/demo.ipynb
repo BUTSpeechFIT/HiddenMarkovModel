{
 "cells": [
  {
   "cell_type": "code",
   "execution_count": null,
   "metadata": {},
   "outputs": [],
   "source": [
    "using Pkg\n",
    "Pkg.activate(\"../\")\n",
    "\n",
    "using StatsFuns\n",
    "using Revise\n",
    "using HiddenMarkovModel"
   ]
  },
  {
   "cell_type": "code",
   "execution_count": null,
   "metadata": {},
   "outputs": [],
   "source": [
    "emissionsmap = Dict(\n",
    "    \"a\" => 1,\n",
    "    \"b\" => 2,\n",
    "    \"c\" => 3,\n",
    "    \"d\" => 4\n",
    ")\n",
    "sequence = [\"a\", \"c\", \"b\", \"a\"]\n",
    "g1 = LinearGraph(sequence, emissionsmap)"
   ]
  },
  {
   "cell_type": "code",
   "execution_count": null,
   "metadata": {},
   "outputs": [],
   "source": [
    "sequence = [\"a\", \"d\", \"b\", \"a\"]\n",
    "g2 = LinearGraph(sequence, emissionsmap)\n",
    "\n",
    "weightnormalize(g2)"
   ]
  },
  {
   "cell_type": "code",
   "execution_count": null,
   "metadata": {},
   "outputs": [],
   "source": [
    "g3 = Graph()\n",
    "s1 = addstate!(g3, State(1, 1, \"hello\"))\n",
    "link!(initstate(g3), s1)\n",
    "link!(s1, finalstate(g3))\n",
    "# prevstate = initstate(g3)\n",
    "# for (i, token) in enumerate(sequence)\n",
    "#     s = addstate!(g3, State(i, emissionsmap[token], token))\n",
    "#     link!(prevstate, s, 0.)\n",
    "#     prevstate = s\n",
    "# end\n",
    "# link!(prevstate, finalstate(g3), 0.)\n",
    "g3"
   ]
  },
  {
   "cell_type": "code",
   "execution_count": null,
   "metadata": {},
   "outputs": [],
   "source": [
    "function union(g1::AbstractGraph, g2::AbstractGraph)\n",
    "    g = Graph()\n",
    "    statecount = 0\n",
    "    old2new = Dict{AbstractState, AbstractState}(\n",
    "        initstate(g1) => initstate(g),\n",
    "        finalstate(g1) => finalstate(g),\n",
    "    )\n",
    "    for (i, state) in enumerate(states(g1))\n",
    "        if id(state) ≠ finalstateid && id(state) ≠ initstateid\n",
    "            statecount += 1\n",
    "            old2new[state] = addstate!(g, State(statecount, pdfindex(state), name(state)))\n",
    "        end\n",
    "    end\n",
    "    \n",
    "    for state in states(g1)\n",
    "        src = old2new[state]\n",
    "        for link in children(state)\n",
    "            link!(src, old2new[link.dest], link.weight)\n",
    "        end\n",
    "    end\n",
    "    \n",
    "    old2new = Dict{AbstractState, AbstractState}(\n",
    "        initstate(g2) => initstate(g),\n",
    "        finalstate(g2) => finalstate(g),\n",
    "    )\n",
    "    for (i, state) in enumerate(states(g2))\n",
    "        if id(state) ≠ finalstateid && id(state) ≠ initstateid\n",
    "            statecount += 1\n",
    "            old2new[state] = addstate!(g, State(statecount, pdfindex(state), name(state)))\n",
    "        end\n",
    "    end\n",
    "    \n",
    "    for state in states(g2)\n",
    "        src = old2new[state]\n",
    "        for link in children(state)\n",
    "            link!(src, old2new[link.dest], link.weight)\n",
    "        end\n",
    "    end\n",
    "    \n",
    "    g |> determinize |> weightnormalize\n",
    "end\n",
    "g = union(g1, g2)"
   ]
  },
  {
   "cell_type": "code",
   "execution_count": null,
   "metadata": {},
   "outputs": [],
   "source": [
    "function leftminimize!(g::Graph, state::AbstractState)\n",
    "    leaves = Dict() \n",
    "    for link in children(state)\n",
    "        leaf, weight = get(leaves, pdfindex(link.dest), ([], -Inf))\n",
    "        push!(leaf, link.dest)\n",
    "        leaves[pdfindex(link.dest)] = (leaf, logaddexp(weight, link.weight))\n",
    "    end\n",
    "    \n",
    "    empty!(state.outgoing)\n",
    "    for (nextstates, weight) in values(leaves)\n",
    "        mergedstate = nextstates[1]\n",
    "        filter!(l -> l.dest ≠ state, mergedstate.incoming)\n",
    "\n",
    "        # Now we removed all the extra states of the graph.\n",
    "        links = vcat([next.outgoing for next in nextstates[2:end]]...)\n",
    "        for link in links\n",
    "            link!(mergedstate, link.dest, link.weight)\n",
    "        end\n",
    "        \n",
    "        for old in nextstates[2:end]\n",
    "            for link in children(old)\n",
    "                filter!(l -> l.dest ≠ old, link.dest.incoming)\n",
    "            end\n",
    "            delete!(g.states, id(old))\n",
    "        end\n",
    "        \n",
    "        # Reconnect the previous state with the merged state\n",
    "        link!(state, mergedstate, weight)\n",
    "        \n",
    "        # Minimize the subgraph.\n",
    "        leftminimize!(g, mergedstate)\n",
    "    end\n",
    "    g \n",
    "end\n",
    "\n",
    "\n",
    "function rightminimize!(g::Graph, state::AbstractState)\n",
    "    leaves = Dict() \n",
    "    for link in parents(state)\n",
    "        leaf, weight = get(leaves, pdfindex(link.dest), ([], -Inf))\n",
    "        push!(leaf, link.dest)\n",
    "        leaves[pdfindex(link.dest)] = (leaf, logaddexp(weight, link.weight))\n",
    "    end\n",
    "    \n",
    "    empty!(state.incoming)\n",
    "    for (nextstates, weight) in values(leaves)\n",
    "        mergedstate = nextstates[1]\n",
    "        filter!(l -> l.dest ≠ state, mergedstate.outgoing)\n",
    "\n",
    "        # Now we removed all the extra states of the graph.\n",
    "        links = vcat([next.incoming for next in nextstates[2:end]]...)\n",
    "        for link in links\n",
    "            #link!(mergedstate, link.dest, link.weight)\n",
    "            link!(link.dest, mergedstate, link.weight)\n",
    "        end\n",
    "        \n",
    "        for old in nextstates[2:end]\n",
    "            for link in parents(old)\n",
    "                filter!(l -> l.dest ≠ old, link.dest.outgoing)\n",
    "            end\n",
    "            delete!(g.states, id(old))\n",
    "        end\n",
    "        \n",
    "        # Reconnect the previous state with the merged state\n",
    "        link!(mergedstate, state, weight)\n",
    "        \n",
    "        # Minimize the subgraph.\n",
    "        rightminimize!(g, mergedstate)\n",
    "    end\n",
    "    g \n",
    "end\n",
    "minimize(g::Graph) = begin\n",
    "    newg = deepcopy(g)\n",
    "    newg = leftminimize!(newg, initstate(newg)) \n",
    "    rightminimize!(newg, finalstate(newg)) \n",
    "end"
   ]
  },
  {
   "cell_type": "code",
   "execution_count": null,
   "metadata": {},
   "outputs": [],
   "source": [
    "g"
   ]
  },
  {
   "cell_type": "code",
   "execution_count": null,
   "metadata": {},
   "outputs": [],
   "source": [
    "g |> minimize"
   ]
  },
  {
   "cell_type": "code",
   "execution_count": null,
   "metadata": {},
   "outputs": [],
   "source": [
    "g = g |> minimize |> determinize |> weightnormalize"
   ]
  },
  {
   "cell_type": "code",
   "execution_count": 10,
   "metadata": {},
   "outputs": [
    {
     "data": {
      "image/svg+xml": [
       "<?xml version=\"1.0\" encoding=\"UTF-8\" standalone=\"no\"?>\n",
       "<!DOCTYPE svg PUBLIC \"-//W3C//DTD SVG 1.1//EN\"\n",
       " \"http://www.w3.org/Graphics/SVG/1.1/DTD/svg11.dtd\">\n",
       "<!-- Generated by graphviz version 2.30.1 (20180420.1509)\n",
       " -->\n",
       "<!-- Title: %3 Pages: 1 -->\n",
       "<svg width=\"502pt\" height=\"164pt\"\n",
       " viewBox=\"0.00 0.00 502.00 164.00\" xmlns=\"http://www.w3.org/2000/svg\" xmlns:xlink=\"http://www.w3.org/1999/xlink\">\n",
       "<g id=\"graph0\" class=\"graph\" transform=\"scale(1 1) rotate(0) translate(4 160)\">\n",
       "<title>%3</title>\n",
       "<polygon fill=\"white\" stroke=\"white\" points=\"-4,5 -4,-160 499,-160 499,5 -4,5\"/>\n",
       "<!-- finalstateid -->\n",
       "<g id=\"node1\" class=\"node\"><title>finalstateid</title>\n",
       "<ellipse fill=\"black\" stroke=\"black\" cx=\"492\" cy=\"-67\" rx=\"1.8\" ry=\"1.8\"/>\n",
       "</g>\n",
       "<!-- 4 -->\n",
       "<g id=\"node2\" class=\"node\"><title>4</title>\n",
       "<ellipse fill=\"none\" stroke=\"black\" cx=\"76\" cy=\"-49\" rx=\"18\" ry=\"18\"/>\n",
       "<text text-anchor=\"middle\" x=\"76\" y=\"-45.3\" font-family=\"Times,serif\" font-size=\"14.00\">a</text>\n",
       "</g>\n",
       "<!-- 4&#45;&gt;4 -->\n",
       "<g id=\"edge1\" class=\"edge\"><title>4&#45;&gt;4</title>\n",
       "<path fill=\"none\" stroke=\"black\" d=\"M68.3321,-65.2903C66.4831,-75.3892 69.0391,-85 76,-85 80.4594,-85 83.1109,-81.0557 83.9546,-75.5656\"/>\n",
       "<polygon fill=\"black\" stroke=\"black\" points=\"87.4456,-75.1887 83.6679,-65.2903 80.4483,-75.384 87.4456,-75.1887\"/>\n",
       "<text text-anchor=\"middle\" x=\"76\" y=\"-88.8\" font-family=\"Times,serif\" font-size=\"14.00\">&#45;0.693</text>\n",
       "</g>\n",
       "<!-- 2 -->\n",
       "<g id=\"node5\" class=\"node\"><title>2</title>\n",
       "<ellipse fill=\"none\" stroke=\"black\" cx=\"184\" cy=\"-105\" rx=\"18\" ry=\"18\"/>\n",
       "<text text-anchor=\"middle\" x=\"184\" y=\"-101.3\" font-family=\"Times,serif\" font-size=\"14.00\">c</text>\n",
       "</g>\n",
       "<!-- 4&#45;&gt;2 -->\n",
       "<g id=\"edge2\" class=\"edge\"><title>4&#45;&gt;2</title>\n",
       "<path fill=\"none\" stroke=\"black\" d=\"M92.1872,-57.0234C109.583,-66.2136 138.318,-81.3946 158.806,-92.2181\"/>\n",
       "<polygon fill=\"black\" stroke=\"black\" points=\"157.364,-95.4149 167.841,-96.9914 160.634,-89.2255 157.364,-95.4149\"/>\n",
       "<text text-anchor=\"middle\" x=\"130\" y=\"-88.8\" font-family=\"Times,serif\" font-size=\"14.00\">&#45;1.386</text>\n",
       "</g>\n",
       "<!-- 6 -->\n",
       "<g id=\"node7\" class=\"node\"><title>6</title>\n",
       "<ellipse fill=\"none\" stroke=\"black\" cx=\"184\" cy=\"-18\" rx=\"18\" ry=\"18\"/>\n",
       "<text text-anchor=\"middle\" x=\"184\" y=\"-14.3\" font-family=\"Times,serif\" font-size=\"14.00\">d</text>\n",
       "</g>\n",
       "<!-- 4&#45;&gt;6 -->\n",
       "<g id=\"edge3\" class=\"edge\"><title>4&#45;&gt;6</title>\n",
       "<path fill=\"none\" stroke=\"black\" d=\"M93.5625,-44.1562C110.52,-39.1969 137.124,-31.4165 156.914,-25.6291\"/>\n",
       "<polygon fill=\"black\" stroke=\"black\" points=\"157.938,-28.9761 166.554,-22.8097 155.973,-22.2575 157.938,-28.9761\"/>\n",
       "<text text-anchor=\"middle\" x=\"130\" y=\"-42.8\" font-family=\"Times,serif\" font-size=\"14.00\">&#45;1.386</text>\n",
       "</g>\n",
       "<!-- 7 -->\n",
       "<g id=\"node3\" class=\"node\"><title>7</title>\n",
       "<ellipse fill=\"none\" stroke=\"black\" cx=\"292\" cy=\"-67\" rx=\"18\" ry=\"18\"/>\n",
       "<text text-anchor=\"middle\" x=\"292\" y=\"-63.3\" font-family=\"Times,serif\" font-size=\"14.00\">b</text>\n",
       "</g>\n",
       "<!-- 7&#45;&gt;7 -->\n",
       "<g id=\"edge4\" class=\"edge\"><title>7&#45;&gt;7</title>\n",
       "<path fill=\"none\" stroke=\"black\" d=\"M282.767,-82.5414C280.169,-92.9087 283.246,-103 292,-103 297.745,-103 301.045,-98.654 301.9,-92.7362\"/>\n",
       "<polygon fill=\"black\" stroke=\"black\" points=\"305.379,-92.2913 301.233,-82.5414 298.394,-92.7489 305.379,-92.2913\"/>\n",
       "<text text-anchor=\"middle\" x=\"292\" y=\"-106.8\" font-family=\"Times,serif\" font-size=\"14.00\">&#45;0.693</text>\n",
       "</g>\n",
       "<!-- 5 -->\n",
       "<g id=\"node6\" class=\"node\"><title>5</title>\n",
       "<ellipse fill=\"none\" stroke=\"black\" cx=\"400\" cy=\"-67\" rx=\"18\" ry=\"18\"/>\n",
       "<text text-anchor=\"middle\" x=\"400\" y=\"-63.3\" font-family=\"Times,serif\" font-size=\"14.00\">a</text>\n",
       "</g>\n",
       "<!-- 7&#45;&gt;5 -->\n",
       "<g id=\"edge5\" class=\"edge\"><title>7&#45;&gt;5</title>\n",
       "<path fill=\"none\" stroke=\"black\" d=\"M310.031,-67C326.622,-67 352.117,-67 371.569,-67\"/>\n",
       "<polygon fill=\"black\" stroke=\"black\" points=\"371.659,-70.5001 381.659,-67 371.659,-63.5001 371.659,-70.5001\"/>\n",
       "<text text-anchor=\"middle\" x=\"346\" y=\"-70.8\" font-family=\"Times,serif\" font-size=\"14.00\">&#45;0.693</text>\n",
       "</g>\n",
       "<!-- initstateid -->\n",
       "<g id=\"node4\" class=\"node\"><title>initstateid</title>\n",
       "<ellipse fill=\"black\" stroke=\"black\" cx=\"2\" cy=\"-49\" rx=\"1.8\" ry=\"1.8\"/>\n",
       "</g>\n",
       "<!-- initstateid&#45;&gt;4 -->\n",
       "<g id=\"edge6\" class=\"edge\"><title>initstateid&#45;&gt;4</title>\n",
       "<path fill=\"none\" stroke=\"black\" d=\"M3.80859,-49C8.17381,-49 29.4016,-49 47.5514,-49\"/>\n",
       "<polygon fill=\"black\" stroke=\"black\" points=\"47.7313,-52.5001 57.7313,-49 47.7313,-45.5001 47.7313,-52.5001\"/>\n",
       "<text text-anchor=\"middle\" x=\"31\" y=\"-52.8\" font-family=\"Times,serif\" font-size=\"14.00\">0.0</text>\n",
       "</g>\n",
       "<!-- 2&#45;&gt;2 -->\n",
       "<g id=\"edge7\" class=\"edge\"><title>2&#45;&gt;2</title>\n",
       "<path fill=\"none\" stroke=\"black\" d=\"M174.767,-120.541C172.169,-130.909 175.246,-141 184,-141 189.745,-141 193.045,-136.654 193.9,-130.736\"/>\n",
       "<polygon fill=\"black\" stroke=\"black\" points=\"197.379,-130.291 193.233,-120.541 190.394,-130.749 197.379,-130.291\"/>\n",
       "<text text-anchor=\"middle\" x=\"184\" y=\"-144.8\" font-family=\"Times,serif\" font-size=\"14.00\">&#45;0.693</text>\n",
       "</g>\n",
       "<!-- 2&#45;&gt;7 -->\n",
       "<g id=\"edge8\" class=\"edge\"><title>2&#45;&gt;7</title>\n",
       "<path fill=\"none\" stroke=\"black\" d=\"M201.099,-99.2286C218.143,-93.1186 245.294,-83.3853 265.303,-76.2123\"/>\n",
       "<polygon fill=\"black\" stroke=\"black\" points=\"266.517,-79.4951 274.749,-72.8257 264.155,-72.9057 266.517,-79.4951\"/>\n",
       "<text text-anchor=\"middle\" x=\"238\" y=\"-94.8\" font-family=\"Times,serif\" font-size=\"14.00\">&#45;0.693</text>\n",
       "</g>\n",
       "<!-- 5&#45;&gt;5 -->\n",
       "<g id=\"edge9\" class=\"edge\"><title>5&#45;&gt;5</title>\n",
       "<path fill=\"none\" stroke=\"black\" d=\"M390.767,-82.5414C388.169,-92.9087 391.246,-103 400,-103 405.745,-103 409.045,-98.654 409.9,-92.7362\"/>\n",
       "<polygon fill=\"black\" stroke=\"black\" points=\"413.379,-92.2913 409.233,-82.5414 406.394,-92.7489 413.379,-92.2913\"/>\n",
       "<text text-anchor=\"middle\" x=\"400\" y=\"-106.8\" font-family=\"Times,serif\" font-size=\"14.00\">&#45;0.693</text>\n",
       "</g>\n",
       "<!-- 5&#45;&gt;finalstateid -->\n",
       "<g id=\"edge10\" class=\"edge\"><title>5&#45;&gt;finalstateid</title>\n",
       "<path fill=\"none\" stroke=\"black\" d=\"M418.353,-67C436.624,-67 464.822,-67 480.16,-67\"/>\n",
       "<polygon fill=\"black\" stroke=\"black\" points=\"480.181,-70.5001 490.181,-67 480.181,-63.5001 480.181,-70.5001\"/>\n",
       "<text text-anchor=\"middle\" x=\"454\" y=\"-70.8\" font-family=\"Times,serif\" font-size=\"14.00\">&#45;0.693</text>\n",
       "</g>\n",
       "<!-- 6&#45;&gt;6 -->\n",
       "<g id=\"edge11\" class=\"edge\"><title>6&#45;&gt;6</title>\n",
       "<path fill=\"none\" stroke=\"black\" d=\"M174.767,-33.5414C172.169,-43.9087 175.246,-54 184,-54 189.745,-54 193.045,-49.654 193.9,-43.7362\"/>\n",
       "<polygon fill=\"black\" stroke=\"black\" points=\"197.379,-43.2913 193.233,-33.5414 190.394,-43.7489 197.379,-43.2913\"/>\n",
       "<text text-anchor=\"middle\" x=\"184\" y=\"-57.8\" font-family=\"Times,serif\" font-size=\"14.00\">&#45;0.693</text>\n",
       "</g>\n",
       "<!-- 6&#45;&gt;7 -->\n",
       "<g id=\"edge12\" class=\"edge\"><title>6&#45;&gt;7</title>\n",
       "<path fill=\"none\" stroke=\"black\" d=\"M200.641,-25.2301C217.863,-33.1916 245.795,-46.1034 266.049,-55.4663\"/>\n",
       "<polygon fill=\"black\" stroke=\"black\" points=\"264.749,-58.7211 275.295,-59.7402 267.687,-52.3672 264.749,-58.7211\"/>\n",
       "<text text-anchor=\"middle\" x=\"238\" y=\"-52.8\" font-family=\"Times,serif\" font-size=\"14.00\">&#45;0.693</text>\n",
       "</g>\n",
       "</g>\n",
       "</svg>\n"
      ],
      "text/plain": [
       "Graph(Dict{Union{Missing, HiddenMarkovModel.FinalStateID, HiddenMarkovModel.InitStateID, Int64},State}(finalstateid => State(id = finalstateid, pdfindex = nothing, finalstateid),4 => State(id = 4, pdfindex = 1, a),7 => State(id = 7, pdfindex = 2, b),initstateid => State(id = initstateid, pdfindex = nothing, initstateid),2 => State(id = 2, pdfindex = 3, c),5 => State(id = 5, pdfindex = 1, a),6 => State(id = 6, pdfindex = 4, d)))"
      ]
     },
     "execution_count": 10,
     "metadata": {},
     "output_type": "execute_result"
    }
   ],
   "source": [
    "g = addselfloop(g) |> weightnormalize"
   ]
  },
  {
   "cell_type": "code",
   "execution_count": null,
   "metadata": {},
   "outputs": [],
   "source": [
    "for (sid, state) in g.states\n",
    "    println(\"state $(state) : $(state.incoming)\")\n",
    "    println(\"---\")\n",
    "end"
   ]
  },
  {
   "cell_type": "code",
   "execution_count": 24,
   "metadata": {},
   "outputs": [
    {
     "data": {
      "text/plain": [
       "4×4 Array{Float64,2}:\n",
       " 0.969361  -0.356358   0.0693353  -0.100164\n",
       " 1.90198    0.495418   1.81186     0.197264\n",
       " 0.562628  -0.807082   1.05562     0.722059\n",
       " 0.988841  -0.354341  -0.280863   -1.65567"
      ]
     },
     "execution_count": 24,
     "metadata": {},
     "output_type": "execute_result"
    }
   ],
   "source": [
    "S,N = 4,4\n",
    "llh = randn(S, N)"
   ]
  },
  {
   "cell_type": "code",
   "execution_count": 30,
   "metadata": {},
   "outputs": [
    {
     "data": {
      "text/plain": [
       "4-element Array{Dict{State,Float64},1}:\n",
       " Dict(State(id = 4, pdfindex = 1, a) => 0.9693610157675303)\n",
       " Dict(State(id = 4, pdfindex = 1, a) => -0.08014460853144317,State(id = 6, pdfindex = 4, d) => -0.7712741424333371,State(id = 2, pdfindex = 3, c) => -1.2240155385505405)\n",
       " Dict(State(id = 4, pdfindex = 1, a) => -0.7039564836230158,State(id = 6, pdfindex = 4, d) => -1.1836074593404295,State(id = 7, pdfindex = 2, b) => 2.258114863334863,State(id = 2, pdfindex = 3, c) => 0.8450680115049921)\n",
       " Dict(State(id = 4, pdfindex = 1, a) => -1.497267542619595,State(id = 6, pdfindex = 4, d) => -3.388970260356466,State(id = 5, pdfindex = 1, a) => 1.4648038043382838,State(id = 7, pdfindex = 2, b) => 2.1736502845674788,State(id = 2, pdfindex = 3, c) => 1.0717538672092162)"
      ]
     },
     "execution_count": 30,
     "metadata": {},
     "output_type": "execute_result"
    }
   ],
   "source": [
    "α = αrecursion(g, llh; pruning=nopruning) # the lower the more pruning \n",
    "α"
   ]
  },
  {
   "cell_type": "code",
   "execution_count": 31,
   "metadata": {},
   "outputs": [
    {
     "data": {
      "text/plain": [
       "4-element Array{Dict{State,Float64},1}:\n",
       " Dict(State(id = 4, pdfindex = 1, a) => -1.6162019594339492,State(id = 6, pdfindex = 4, d) => -0.0938534122913855,State(id = 5, pdfindex = 1, a) => -3.15977573894707,State(id = 7, pdfindex = 2, b) => -0.3425135868737629,State(id = 2, pdfindex = 3, c) => -0.19603467081876866)\n",
       " Dict(State(id = 6, pdfindex = 4, d) => -0.3677492483667335,State(id = 5, pdfindex = 1, a) => -2.1102701146480967,State(id = 7, pdfindex = 2, b) => -0.2064142992702488,State(id = 2, pdfindex = 3, c) => -0.3677492483667335)\n",
       " Dict(State(id = 5, pdfindex = 1, a) => -1.4864582395565245,State(id = 7, pdfindex = 2, b) => -1.4864582395565245)\n",
       " Dict(State(id = 5, pdfindex = 1, a) => -0.6931471805599453)"
      ]
     },
     "execution_count": 31,
     "metadata": {},
     "output_type": "execute_result"
    }
   ],
   "source": [
    "β = βrecursion(g, llh; pruning=nopruning) # the lower the more pruning \n",
    "β"
   ]
  },
  {
   "cell_type": "code",
   "execution_count": 56,
   "metadata": {},
   "outputs": [
    {
     "data": {
      "text/plain": [
       "4×4 Array{Float64,2}:\n",
       "  2.14527    1.13887    0.250768   1.32846\n",
       " -0.342514   0.892198   2.51825    2.17365\n",
       " -0.196035   0.904335   1.53822    1.07175\n",
       " -0.0938534  1.12881   -0.49046   -3.38897"
      ]
     },
     "execution_count": 56,
     "metadata": {},
     "output_type": "execute_result"
    }
   ],
   "source": [
    "T = eltype(llh)\n",
    "γ = Matrix{T}(undef, size(llh))\n",
    "fill!(γ, T(-Inf))\n",
    "# a = Matrix{T}(undef, size(llh))\n",
    "# fill!(a, T(-Inf))\n",
    "# b = Matrix{T}(undef, size(llh))\n",
    "# fill!(b, T(-Inf))\n",
    "\n",
    "for n in 1:size(llh, 2)\n",
    "    for (s1, w1) in α[n]\n",
    "        for (s2, w2) in β[n]\n",
    "            if s1.pdfindex == s2.pdfindex\n",
    "                γ[s1.pdfindex, n] = logaddexp(γ[s1.pdfindex, n], w1 + w2)\n",
    "            end\n",
    "        end\n",
    "    end\n",
    "end       \n",
    "#     for (s, w) in α[n]\n",
    "#         a[s.pdfindex, n] = logaddexp(a[s.pdfindex, n], w)\n",
    "#     end\n",
    "#     for (s, w) in β[n]\n",
    "#         b[s.pdfindex, n] = logaddexp(b[s.pdfindex, n], w)\n",
    "#     end\n",
    "# end\n",
    "# γ = a + b .- logsumexp(a + b, dims = 1)\n",
    "γ"
   ]
  },
  {
   "cell_type": "code",
   "execution_count": 54,
   "metadata": {},
   "outputs": [
    {
     "data": {
      "text/plain": [
       "5×4 Array{Float64,2}:\n",
       "   0.969361   -0.0801446   -0.703956  -1.49727\n",
       " -Inf         -1.22402      0.845068   1.07175\n",
       " -Inf         -0.771274    -1.18361   -3.38897\n",
       " -Inf        -Inf           2.25811    2.17365\n",
       " -Inf        -Inf         -Inf         1.4648"
      ]
     },
     "metadata": {},
     "output_type": "display_data"
    },
    {
     "data": {
      "text/plain": [
       "5×4 Array{Float64,2}:\n",
       " -1.6162     -Inf        -Inf       -Inf\n",
       " -0.196035    -0.367749  -Inf       -Inf\n",
       " -0.0938534   -0.367749  -Inf       -Inf\n",
       " -0.342514    -0.206414   -1.48646  -Inf\n",
       " -3.15978     -2.11027    -1.48646   -0.693147"
      ]
     },
     "metadata": {},
     "output_type": "display_data"
    },
    {
     "data": {
      "text/plain": [
       "5×4 Array{Float64,2}:\n",
       "   0.0  -Inf        -Inf   -Inf\n",
       " -Inf    -0.944924  -Inf   -Inf\n",
       " -Inf    -0.492182  -Inf   -Inf\n",
       " -Inf   -Inf          0.0  -Inf\n",
       " -Inf   -Inf        -Inf     0.0"
      ]
     },
     "execution_count": 54,
     "metadata": {},
     "output_type": "execute_result"
    }
   ],
   "source": [
    "T = eltype(llh)\n",
    "γ = Matrix{T}(undef, size(llh))\n",
    "fill!(γ, T(-Inf))\n",
    "a = Matrix{T}(undef, 5, 4)\n",
    "fill!(a, T(-Inf))\n",
    "b = Matrix{T}(undef, 5, 4)\n",
    "fill!(b, T(-Inf))\n",
    "\n",
    "map = Dict(4 => 1, 2 => 2, 6 => 3, 7 => 4, 5 => 5)\n",
    "\n",
    "for n in 1:size(llh, 2)\n",
    "    for (s, w) in α[n]\n",
    "        a[map[id(s)], n] = logaddexp(a[map[id(s)], n], w)\n",
    "    end\n",
    "    for (s, w) in β[n]\n",
    "        b[map[id(s)], n] = logaddexp(b[map[id(s)], n], w)\n",
    "    end\n",
    "end\n",
    "display(a)\n",
    "display(b)\n",
    "γ = a + b .- logsumexp(a + b, dims = 1)\n",
    "\n",
    "# for (id, s) in g.states\n",
    "#     println(s, s.name, id)\n",
    "# end"
   ]
  },
  {
   "cell_type": "code",
   "execution_count": 48,
   "metadata": {},
   "outputs": [
    {
     "data": {
      "text/plain": [
       "State(id = 4, pdfindex = 1, a)"
      ]
     },
     "metadata": {},
     "output_type": "display_data"
    },
    {
     "data": {
      "text/plain": [
       "State(id = 5, pdfindex = 1, a)"
      ]
     },
     "metadata": {},
     "output_type": "display_data"
    },
    {
     "data": {
      "text/plain": [
       "false"
      ]
     },
     "execution_count": 48,
     "metadata": {},
     "output_type": "execute_result"
    }
   ],
   "source": [
    "display(g.states[4])\n",
    "display(g.states[5])\n",
    "g.states[4] == g.states[5]\n"
   ]
  },
  {
   "cell_type": "code",
   "execution_count": 38,
   "metadata": {},
   "outputs": [
    {
     "data": {
      "text/plain": [
       "10×4 Array{Float64,2}:\n",
       " -Inf   -Inf        -Inf   -Inf\n",
       " -Inf    -0.944924  -Inf   -Inf\n",
       " -Inf   -Inf        -Inf   -Inf\n",
       "   0.0  -Inf        -Inf   -Inf\n",
       " -Inf   -Inf        -Inf     0.0\n",
       " -Inf    -0.492182  -Inf   -Inf\n",
       " -Inf   -Inf          0.0  -Inf\n",
       " -Inf   -Inf        -Inf   -Inf\n",
       " -Inf   -Inf        -Inf   -Inf\n",
       " -Inf   -Inf        -Inf   -Inf"
      ]
     },
     "execution_count": 38,
     "metadata": {},
     "output_type": "execute_result"
    }
   ],
   "source": [
    "T = eltype(llh)\n",
    "γ = Matrix{T}(undef, size(llh))\n",
    "fill!(γ, T(-Inf))\n",
    "a = Matrix{T}(undef, 10, 4)\n",
    "fill!(a, T(-Inf))\n",
    "b = Matrix{T}(undef, 10, 4)\n",
    "fill!(b, T(-Inf))\n",
    "\n",
    "for n in 1:size(llh, 2)\n",
    "    for (s, w) in α[n]\n",
    "        a[id(s), n] = logaddexp(a[id(s), n], w)\n",
    "    end\n",
    "    for (s, w) in β[n]\n",
    "        b[id(s), n] = logaddexp(b[id(s), n], w)\n",
    "    end\n",
    "end\n",
    "γ = a + b .- logsumexp(a + b, dims = 1)"
   ]
  },
  {
   "cell_type": "code",
   "execution_count": 36,
   "metadata": {},
   "outputs": [
    {
     "data": {
      "text/plain": [
       "4×4 Array{Float64,2}:\n",
       "   0.969361   -0.0801446  -0.703956   1.51522\n",
       " -Inf        -Inf          2.25811    2.17365\n",
       " -Inf         -1.22402     0.845068   1.07175\n",
       " -Inf         -0.771274   -1.18361   -3.38897"
      ]
     },
     "execution_count": 36,
     "metadata": {},
     "output_type": "execute_result"
    }
   ],
   "source": []
  },
  {
   "cell_type": "code",
   "execution_count": 113,
   "metadata": {},
   "outputs": [
    {
     "data": {
      "text/plain": [
       "Dict{State,Float64} with 1 entry:\n",
       "  State(id = 8, pdfindex = 1, a) => -1.2072"
      ]
     },
     "execution_count": 113,
     "metadata": {},
     "output_type": "execute_result"
    }
   ],
   "source": [
    "α[2]"
   ]
  },
  {
   "cell_type": "code",
   "execution_count": 111,
   "metadata": {},
   "outputs": [
    {
     "name": "stdout",
     "output_type": "stream",
     "text": [
      "search: \u001b[0m\u001b[1mf\u001b[22m\u001b[0m\u001b[1mi\u001b[22m\u001b[0m\u001b[1ml\u001b[22m\u001b[0m\u001b[1mt\u001b[22m\u001b[0m\u001b[1me\u001b[22m\u001b[0m\u001b[1mr\u001b[22m\u001b[0m\u001b[1m!\u001b[22m \u001b[0m\u001b[1mf\u001b[22m\u001b[0m\u001b[1mi\u001b[22m\u001b[0m\u001b[1ml\u001b[22m\u001b[0m\u001b[1mt\u001b[22m\u001b[0m\u001b[1me\u001b[22m\u001b[0m\u001b[1mr\u001b[22m \u001b[0m\u001b[1mf\u001b[22m\u001b[0m\u001b[1mi\u001b[22me\u001b[0m\u001b[1ml\u001b[22md\u001b[0m\u001b[1mt\u001b[22myp\u001b[0m\u001b[1me\u001b[22m \u001b[0m\u001b[1mf\u001b[22m\u001b[0m\u001b[1mi\u001b[22me\u001b[0m\u001b[1ml\u001b[22md\u001b[0m\u001b[1mt\u001b[22myp\u001b[0m\u001b[1me\u001b[22ms \u001b[0m\u001b[1mf\u001b[22m\u001b[0m\u001b[1mi\u001b[22mna\u001b[0m\u001b[1ml\u001b[22ms\u001b[0m\u001b[1mt\u001b[22mat\u001b[0m\u001b[1me\u001b[22m \u001b[0m\u001b[1mf\u001b[22m\u001b[0m\u001b[1mi\u001b[22mna\u001b[0m\u001b[1ml\u001b[22ms\u001b[0m\u001b[1mt\u001b[22mat\u001b[0m\u001b[1me\u001b[22mid\n",
      "\n"
     ]
    },
    {
     "data": {
      "text/latex": [
       "\\begin{verbatim}\n",
       "filter!(f, a::AbstractVector)\n",
       "\\end{verbatim}\n",
       "Update \\texttt{a}, removing elements for which \\texttt{f} is \\texttt{false}. The function \\texttt{f} is passed one argument.\n",
       "\n",
       "\\section{Examples}\n",
       "\\begin{verbatim}\n",
       "julia> filter!(isodd, Vector(1:10))\n",
       "5-element Array{Int64,1}:\n",
       " 1\n",
       " 3\n",
       " 5\n",
       " 7\n",
       " 9\n",
       "\\end{verbatim}\n",
       "\\rule{\\textwidth}{1pt}\n",
       "\\begin{verbatim}\n",
       "filter!(f, d::AbstractDict)\n",
       "\\end{verbatim}\n",
       "Update \\texttt{d}, removing elements for which \\texttt{f} is \\texttt{false}. The function \\texttt{f} is passed \\texttt{key=>value} pairs.\n",
       "\n",
       "\\section{Example}\n",
       "\\begin{verbatim}\n",
       "julia> d = Dict(1=>\"a\", 2=>\"b\", 3=>\"c\")\n",
       "Dict{Int64,String} with 3 entries:\n",
       "  2 => \"b\"\n",
       "  3 => \"c\"\n",
       "  1 => \"a\"\n",
       "\n",
       "julia> filter!(p->isodd(p.first), d)\n",
       "Dict{Int64,String} with 2 entries:\n",
       "  3 => \"c\"\n",
       "  1 => \"a\"\n",
       "\\end{verbatim}\n"
      ],
      "text/markdown": [
       "```\n",
       "filter!(f, a::AbstractVector)\n",
       "```\n",
       "\n",
       "Update `a`, removing elements for which `f` is `false`. The function `f` is passed one argument.\n",
       "\n",
       "# Examples\n",
       "\n",
       "```jldoctest\n",
       "julia> filter!(isodd, Vector(1:10))\n",
       "5-element Array{Int64,1}:\n",
       " 1\n",
       " 3\n",
       " 5\n",
       " 7\n",
       " 9\n",
       "```\n",
       "\n",
       "---\n",
       "\n",
       "```\n",
       "filter!(f, d::AbstractDict)\n",
       "```\n",
       "\n",
       "Update `d`, removing elements for which `f` is `false`. The function `f` is passed `key=>value` pairs.\n",
       "\n",
       "# Example\n",
       "\n",
       "```jldoctest\n",
       "julia> d = Dict(1=>\"a\", 2=>\"b\", 3=>\"c\")\n",
       "Dict{Int64,String} with 3 entries:\n",
       "  2 => \"b\"\n",
       "  3 => \"c\"\n",
       "  1 => \"a\"\n",
       "\n",
       "julia> filter!(p->isodd(p.first), d)\n",
       "Dict{Int64,String} with 2 entries:\n",
       "  3 => \"c\"\n",
       "  1 => \"a\"\n",
       "```\n"
      ],
      "text/plain": [
       "\u001b[36m  filter!(f, a::AbstractVector)\u001b[39m\n",
       "\n",
       "  Update \u001b[36ma\u001b[39m, removing elements for which \u001b[36mf\u001b[39m is \u001b[36mfalse\u001b[39m. The function \u001b[36mf\u001b[39m is passed\n",
       "  one argument.\n",
       "\n",
       "\u001b[1m  Examples\u001b[22m\n",
       "\u001b[1m  ≡≡≡≡≡≡≡≡≡≡\u001b[22m\n",
       "\n",
       "\u001b[36m  julia> filter!(isodd, Vector(1:10))\u001b[39m\n",
       "\u001b[36m  5-element Array{Int64,1}:\u001b[39m\n",
       "\u001b[36m   1\u001b[39m\n",
       "\u001b[36m   3\u001b[39m\n",
       "\u001b[36m   5\u001b[39m\n",
       "\u001b[36m   7\u001b[39m\n",
       "\u001b[36m   9\u001b[39m\n",
       "\n",
       "  ────────────────────────────────────────────────────────────────────────────\n",
       "\n",
       "\u001b[36m  filter!(f, d::AbstractDict)\u001b[39m\n",
       "\n",
       "  Update \u001b[36md\u001b[39m, removing elements for which \u001b[36mf\u001b[39m is \u001b[36mfalse\u001b[39m. The function \u001b[36mf\u001b[39m is passed\n",
       "  \u001b[36mkey=>value\u001b[39m pairs.\n",
       "\n",
       "\u001b[1m  Example\u001b[22m\n",
       "\u001b[1m  ≡≡≡≡≡≡≡≡≡\u001b[22m\n",
       "\n",
       "\u001b[36m  julia> d = Dict(1=>\"a\", 2=>\"b\", 3=>\"c\")\u001b[39m\n",
       "\u001b[36m  Dict{Int64,String} with 3 entries:\u001b[39m\n",
       "\u001b[36m    2 => \"b\"\u001b[39m\n",
       "\u001b[36m    3 => \"c\"\u001b[39m\n",
       "\u001b[36m    1 => \"a\"\u001b[39m\n",
       "\u001b[36m  \u001b[39m\n",
       "\u001b[36m  julia> filter!(p->isodd(p.first), d)\u001b[39m\n",
       "\u001b[36m  Dict{Int64,String} with 2 entries:\u001b[39m\n",
       "\u001b[36m    3 => \"c\"\u001b[39m\n",
       "\u001b[36m    1 => \"a\"\u001b[39m"
      ]
     },
     "execution_count": 111,
     "metadata": {},
     "output_type": "execute_result"
    }
   ],
   "source": []
  },
  {
   "cell_type": "code",
   "execution_count": 83,
   "metadata": {},
   "outputs": [
    {
     "data": {
      "text/plain": [
       "4×4 Array{Float64,2}:\n",
       " 1.0  0.945357   0.948721   1.0\n",
       " 0.0  0.0        0.0512785  0.0\n",
       " 0.0  0.0339451  0.0        0.0\n",
       " 0.0  0.0206974  0.0        0.0"
      ]
     },
     "execution_count": 83,
     "metadata": {},
     "output_type": "execute_result"
    }
   ],
   "source": [
    "lnαβ = αβrecursion(g, llh) # the lower the more pruning \n",
    "exp.(lnαβ)"
   ]
  },
  {
   "cell_type": "code",
   "execution_count": 84,
   "metadata": {},
   "outputs": [
    {
     "data": {
      "image/svg+xml": [
       "<?xml version=\"1.0\" encoding=\"UTF-8\" standalone=\"no\"?>\n",
       "<!DOCTYPE svg PUBLIC \"-//W3C//DTD SVG 1.1//EN\"\n",
       " \"http://www.w3.org/Graphics/SVG/1.1/DTD/svg11.dtd\">\n",
       "<!-- Generated by graphviz version 2.30.1 (20180420.1509)\n",
       " -->\n",
       "<!-- Title: %3 Pages: 1 -->\n",
       "<svg width=\"502pt\" height=\"164pt\"\n",
       " viewBox=\"0.00 0.00 502.00 164.00\" xmlns=\"http://www.w3.org/2000/svg\" xmlns:xlink=\"http://www.w3.org/1999/xlink\">\n",
       "<g id=\"graph0\" class=\"graph\" transform=\"scale(1 1) rotate(0) translate(4 160)\">\n",
       "<title>%3</title>\n",
       "<polygon fill=\"white\" stroke=\"white\" points=\"-4,5 -4,-160 499,-160 499,5 -4,5\"/>\n",
       "<!-- 7 -->\n",
       "<g id=\"node1\" class=\"node\"><title>7</title>\n",
       "<ellipse fill=\"none\" stroke=\"black\" cx=\"292\" cy=\"-67\" rx=\"18\" ry=\"18\"/>\n",
       "<text text-anchor=\"middle\" x=\"292\" y=\"-63.3\" font-family=\"Times,serif\" font-size=\"14.00\">b</text>\n",
       "</g>\n",
       "<!-- 7&#45;&gt;7 -->\n",
       "<g id=\"edge1\" class=\"edge\"><title>7&#45;&gt;7</title>\n",
       "<path fill=\"none\" stroke=\"black\" d=\"M282.767,-82.5414C280.169,-92.9087 283.246,-103 292,-103 297.745,-103 301.045,-98.654 301.9,-92.7362\"/>\n",
       "<polygon fill=\"black\" stroke=\"black\" points=\"305.379,-92.2913 301.233,-82.5414 298.394,-92.7489 305.379,-92.2913\"/>\n",
       "<text text-anchor=\"middle\" x=\"292\" y=\"-106.8\" font-family=\"Times,serif\" font-size=\"14.00\">&#45;0.693</text>\n",
       "</g>\n",
       "<!-- 5 -->\n",
       "<g id=\"node5\" class=\"node\"><title>5</title>\n",
       "<ellipse fill=\"none\" stroke=\"black\" cx=\"400\" cy=\"-67\" rx=\"18\" ry=\"18\"/>\n",
       "<text text-anchor=\"middle\" x=\"400\" y=\"-63.3\" font-family=\"Times,serif\" font-size=\"14.00\">a</text>\n",
       "</g>\n",
       "<!-- 7&#45;&gt;5 -->\n",
       "<g id=\"edge2\" class=\"edge\"><title>7&#45;&gt;5</title>\n",
       "<path fill=\"none\" stroke=\"black\" d=\"M310.031,-67C326.622,-67 352.117,-67 371.569,-67\"/>\n",
       "<polygon fill=\"black\" stroke=\"black\" points=\"371.659,-70.5001 381.659,-67 371.659,-63.5001 371.659,-70.5001\"/>\n",
       "<text text-anchor=\"middle\" x=\"346\" y=\"-70.8\" font-family=\"Times,serif\" font-size=\"14.00\">&#45;0.693</text>\n",
       "</g>\n",
       "<!-- finalstateid -->\n",
       "<g id=\"node2\" class=\"node\"><title>finalstateid</title>\n",
       "<ellipse fill=\"black\" stroke=\"black\" cx=\"492\" cy=\"-67\" rx=\"1.8\" ry=\"1.8\"/>\n",
       "</g>\n",
       "<!-- initstateid -->\n",
       "<g id=\"node3\" class=\"node\"><title>initstateid</title>\n",
       "<ellipse fill=\"black\" stroke=\"black\" cx=\"2\" cy=\"-49\" rx=\"1.8\" ry=\"1.8\"/>\n",
       "</g>\n",
       "<!-- 8 -->\n",
       "<g id=\"node6\" class=\"node\"><title>8</title>\n",
       "<ellipse fill=\"none\" stroke=\"black\" cx=\"76\" cy=\"-49\" rx=\"18\" ry=\"18\"/>\n",
       "<text text-anchor=\"middle\" x=\"76\" y=\"-45.3\" font-family=\"Times,serif\" font-size=\"14.00\">a</text>\n",
       "</g>\n",
       "<!-- initstateid&#45;&gt;8 -->\n",
       "<g id=\"edge3\" class=\"edge\"><title>initstateid&#45;&gt;8</title>\n",
       "<path fill=\"none\" stroke=\"black\" d=\"M3.80859,-49C8.17381,-49 29.4016,-49 47.5514,-49\"/>\n",
       "<polygon fill=\"black\" stroke=\"black\" points=\"47.7313,-52.5001 57.7313,-49 47.7313,-45.5001 47.7313,-52.5001\"/>\n",
       "<text text-anchor=\"middle\" x=\"31\" y=\"-52.8\" font-family=\"Times,serif\" font-size=\"14.00\">0.0</text>\n",
       "</g>\n",
       "<!-- 2 -->\n",
       "<g id=\"node4\" class=\"node\"><title>2</title>\n",
       "<ellipse fill=\"none\" stroke=\"black\" cx=\"184\" cy=\"-105\" rx=\"18\" ry=\"18\"/>\n",
       "<text text-anchor=\"middle\" x=\"184\" y=\"-101.3\" font-family=\"Times,serif\" font-size=\"14.00\">c</text>\n",
       "</g>\n",
       "<!-- 2&#45;&gt;2 -->\n",
       "<g id=\"edge4\" class=\"edge\"><title>2&#45;&gt;2</title>\n",
       "<path fill=\"none\" stroke=\"black\" d=\"M174.767,-120.541C172.169,-130.909 175.246,-141 184,-141 189.745,-141 193.045,-136.654 193.9,-130.736\"/>\n",
       "<polygon fill=\"black\" stroke=\"black\" points=\"197.379,-130.291 193.233,-120.541 190.394,-130.749 197.379,-130.291\"/>\n",
       "<text text-anchor=\"middle\" x=\"184\" y=\"-144.8\" font-family=\"Times,serif\" font-size=\"14.00\">&#45;0.693</text>\n",
       "</g>\n",
       "<!-- 2&#45;&gt;7 -->\n",
       "<g id=\"edge5\" class=\"edge\"><title>2&#45;&gt;7</title>\n",
       "<path fill=\"none\" stroke=\"black\" d=\"M201.099,-99.2286C218.143,-93.1186 245.294,-83.3853 265.303,-76.2123\"/>\n",
       "<polygon fill=\"black\" stroke=\"black\" points=\"266.517,-79.4951 274.749,-72.8257 264.155,-72.9057 266.517,-79.4951\"/>\n",
       "<text text-anchor=\"middle\" x=\"238\" y=\"-94.8\" font-family=\"Times,serif\" font-size=\"14.00\">&#45;0.693</text>\n",
       "</g>\n",
       "<!-- 5&#45;&gt;5 -->\n",
       "<g id=\"edge6\" class=\"edge\"><title>5&#45;&gt;5</title>\n",
       "<path fill=\"none\" stroke=\"black\" d=\"M390.767,-82.5414C388.169,-92.9087 391.246,-103 400,-103 405.745,-103 409.045,-98.654 409.9,-92.7362\"/>\n",
       "<polygon fill=\"black\" stroke=\"black\" points=\"413.379,-92.2913 409.233,-82.5414 406.394,-92.7489 413.379,-92.2913\"/>\n",
       "<text text-anchor=\"middle\" x=\"400\" y=\"-106.8\" font-family=\"Times,serif\" font-size=\"14.00\">&#45;0.693</text>\n",
       "</g>\n",
       "<!-- 5&#45;&gt;finalstateid -->\n",
       "<g id=\"edge7\" class=\"edge\"><title>5&#45;&gt;finalstateid</title>\n",
       "<path fill=\"none\" stroke=\"black\" d=\"M418.353,-67C436.624,-67 464.822,-67 480.16,-67\"/>\n",
       "<polygon fill=\"black\" stroke=\"black\" points=\"480.181,-70.5001 490.181,-67 480.181,-63.5001 480.181,-70.5001\"/>\n",
       "<text text-anchor=\"middle\" x=\"454\" y=\"-70.8\" font-family=\"Times,serif\" font-size=\"14.00\">&#45;0.693</text>\n",
       "</g>\n",
       "<!-- 8&#45;&gt;8 -->\n",
       "<g id=\"edge8\" class=\"edge\"><title>8&#45;&gt;8</title>\n",
       "<path fill=\"none\" stroke=\"black\" d=\"M68.3321,-65.2903C66.4831,-75.3892 69.0391,-85 76,-85 80.4594,-85 83.1109,-81.0557 83.9546,-75.5656\"/>\n",
       "<polygon fill=\"black\" stroke=\"black\" points=\"87.4456,-75.1887 83.6679,-65.2903 80.4483,-75.384 87.4456,-75.1887\"/>\n",
       "<text text-anchor=\"middle\" x=\"76\" y=\"-88.8\" font-family=\"Times,serif\" font-size=\"14.00\">&#45;0.693</text>\n",
       "</g>\n",
       "<!-- 8&#45;&gt;2 -->\n",
       "<g id=\"edge9\" class=\"edge\"><title>8&#45;&gt;2</title>\n",
       "<path fill=\"none\" stroke=\"black\" d=\"M92.1872,-57.0234C109.583,-66.2136 138.318,-81.3946 158.806,-92.2181\"/>\n",
       "<polygon fill=\"black\" stroke=\"black\" points=\"157.364,-95.4149 167.841,-96.9914 160.634,-89.2255 157.364,-95.4149\"/>\n",
       "<text text-anchor=\"middle\" x=\"130\" y=\"-88.8\" font-family=\"Times,serif\" font-size=\"14.00\">&#45;1.386</text>\n",
       "</g>\n",
       "<!-- 6 -->\n",
       "<g id=\"node7\" class=\"node\"><title>6</title>\n",
       "<ellipse fill=\"none\" stroke=\"black\" cx=\"184\" cy=\"-18\" rx=\"18\" ry=\"18\"/>\n",
       "<text text-anchor=\"middle\" x=\"184\" y=\"-14.3\" font-family=\"Times,serif\" font-size=\"14.00\">d</text>\n",
       "</g>\n",
       "<!-- 8&#45;&gt;6 -->\n",
       "<g id=\"edge10\" class=\"edge\"><title>8&#45;&gt;6</title>\n",
       "<path fill=\"none\" stroke=\"black\" d=\"M93.5625,-44.1562C110.52,-39.1969 137.124,-31.4165 156.914,-25.6291\"/>\n",
       "<polygon fill=\"black\" stroke=\"black\" points=\"157.938,-28.9761 166.554,-22.8097 155.973,-22.2575 157.938,-28.9761\"/>\n",
       "<text text-anchor=\"middle\" x=\"130\" y=\"-42.8\" font-family=\"Times,serif\" font-size=\"14.00\">&#45;1.386</text>\n",
       "</g>\n",
       "<!-- 6&#45;&gt;6 -->\n",
       "<g id=\"edge11\" class=\"edge\"><title>6&#45;&gt;6</title>\n",
       "<path fill=\"none\" stroke=\"black\" d=\"M174.767,-33.5414C172.169,-43.9087 175.246,-54 184,-54 189.745,-54 193.045,-49.654 193.9,-43.7362\"/>\n",
       "<polygon fill=\"black\" stroke=\"black\" points=\"197.379,-43.2913 193.233,-33.5414 190.394,-43.7489 197.379,-43.2913\"/>\n",
       "<text text-anchor=\"middle\" x=\"184\" y=\"-57.8\" font-family=\"Times,serif\" font-size=\"14.00\">&#45;0.693</text>\n",
       "</g>\n",
       "<!-- 6&#45;&gt;7 -->\n",
       "<g id=\"edge12\" class=\"edge\"><title>6&#45;&gt;7</title>\n",
       "<path fill=\"none\" stroke=\"black\" d=\"M200.641,-25.2301C217.863,-33.1916 245.795,-46.1034 266.049,-55.4663\"/>\n",
       "<polygon fill=\"black\" stroke=\"black\" points=\"264.749,-58.7211 275.295,-59.7402 267.687,-52.3672 264.749,-58.7211\"/>\n",
       "<text text-anchor=\"middle\" x=\"238\" y=\"-52.8\" font-family=\"Times,serif\" font-size=\"14.00\">&#45;0.693</text>\n",
       "</g>\n",
       "</g>\n",
       "</svg>\n"
      ],
      "text/plain": [
       "Graph(Dict{Union{Missing, HiddenMarkovModel.FinalStateID, HiddenMarkovModel.InitStateID, Int64},State}(7 => State(id = 7, pdfindex = 2, b),finalstateid => State(id = finalstateid, pdfindex = nothing, finalstateid),initstateid => State(id = initstateid, pdfindex = nothing, initstateid),2 => State(id = 2, pdfindex = 3, c),5 => State(id = 5, pdfindex = 1, a),8 => State(id = 8, pdfindex = 1, a),6 => State(id = 6, pdfindex = 4, d)))"
      ]
     },
     "execution_count": 84,
     "metadata": {},
     "output_type": "execute_result"
    }
   ],
   "source": [
    "g"
   ]
  },
  {
   "cell_type": "code",
   "execution_count": 29,
   "metadata": {},
   "outputs": [
    {
     "name": "stdout",
     "output_type": "stream",
     "text": [
      "State[State(id = 5, pdfindex = 1, a)]\n",
      "[-0.8551561887348482]\n",
      "-----\n",
      "State[State(id = 7, pdfindex = 2, b), State(id = 5, pdfindex = 1, a)]\n",
      "[-1.2488083877617786, -1.9778213566053067]\n",
      "-----\n",
      "State[State(id = 7, pdfindex = 2, b), State(id = 6, pdfindex = 4, d), State(id = 2, pdfindex = 3, c)]\n",
      "[-Inf, -3.8706317322238837, -1.383485432899563]\n",
      "-----\n",
      "State[State(id = 2, pdfindex = 3, c), State(id = 4, pdfindex = 1, a)]\n",
      "[-Inf, -1.3834854328995632]\n",
      "-----\n"
     ]
    },
    {
     "data": {
      "image/svg+xml": [
       "<?xml version=\"1.0\" encoding=\"UTF-8\" standalone=\"no\"?>\n",
       "<!DOCTYPE svg PUBLIC \"-//W3C//DTD SVG 1.1//EN\"\n",
       " \"http://www.w3.org/Graphics/SVG/1.1/DTD/svg11.dtd\">\n",
       "<!-- Generated by graphviz version 2.30.1 (20180420.1509)\n",
       " -->\n",
       "<!-- Title: %3 Pages: 1 -->\n",
       "<svg width=\"430pt\" height=\"44pt\"\n",
       " viewBox=\"0.00 0.00 430.00 44.00\" xmlns=\"http://www.w3.org/2000/svg\" xmlns:xlink=\"http://www.w3.org/1999/xlink\">\n",
       "<g id=\"graph0\" class=\"graph\" transform=\"scale(1 1) rotate(0) translate(4 40)\">\n",
       "<title>%3</title>\n",
       "<polygon fill=\"white\" stroke=\"white\" points=\"-4,5 -4,-40 427,-40 427,5 -4,5\"/>\n",
       "<!-- 4 -->\n",
       "<g id=\"node1\" class=\"node\"><title>4</title>\n",
       "<ellipse fill=\"none\" stroke=\"black\" cx=\"346\" cy=\"-18\" rx=\"18\" ry=\"18\"/>\n",
       "<text text-anchor=\"middle\" x=\"346\" y=\"-14.3\" font-family=\"Times,serif\" font-size=\"14.00\">a</text>\n",
       "</g>\n",
       "<!-- finalstateid -->\n",
       "<g id=\"node2\" class=\"node\"><title>finalstateid</title>\n",
       "<ellipse fill=\"black\" stroke=\"black\" cx=\"420\" cy=\"-18\" rx=\"1.8\" ry=\"1.8\"/>\n",
       "</g>\n",
       "<!-- 4&#45;&gt;finalstateid -->\n",
       "<g id=\"edge1\" class=\"edge\"><title>4&#45;&gt;finalstateid</title>\n",
       "<path fill=\"none\" stroke=\"black\" d=\"M364.063,-18C377.63,-18 396.213,-18 407.911,-18\"/>\n",
       "<polygon fill=\"black\" stroke=\"black\" points=\"408.151,-21.5001 418.151,-18 408.151,-14.5001 408.151,-21.5001\"/>\n",
       "<text text-anchor=\"middle\" x=\"391\" y=\"-21.8\" font-family=\"Times,serif\" font-size=\"14.00\">0.0</text>\n",
       "</g>\n",
       "<!-- initstateid -->\n",
       "<g id=\"node3\" class=\"node\"><title>initstateid</title>\n",
       "<ellipse fill=\"black\" stroke=\"black\" cx=\"2\" cy=\"-18\" rx=\"1.8\" ry=\"1.8\"/>\n",
       "</g>\n",
       "<!-- 1 -->\n",
       "<g id=\"node6\" class=\"node\"><title>1</title>\n",
       "<ellipse fill=\"none\" stroke=\"black\" cx=\"76\" cy=\"-18\" rx=\"18\" ry=\"18\"/>\n",
       "<text text-anchor=\"middle\" x=\"76\" y=\"-14.3\" font-family=\"Times,serif\" font-size=\"14.00\">a</text>\n",
       "</g>\n",
       "<!-- initstateid&#45;&gt;1 -->\n",
       "<g id=\"edge2\" class=\"edge\"><title>initstateid&#45;&gt;1</title>\n",
       "<path fill=\"none\" stroke=\"black\" d=\"M3.80859,-18C8.17381,-18 29.4016,-18 47.5514,-18\"/>\n",
       "<polygon fill=\"black\" stroke=\"black\" points=\"47.7313,-21.5001 57.7313,-18 47.7313,-14.5001 47.7313,-21.5001\"/>\n",
       "<text text-anchor=\"middle\" x=\"31\" y=\"-21.8\" font-family=\"Times,serif\" font-size=\"14.00\">0.0</text>\n",
       "</g>\n",
       "<!-- 2 -->\n",
       "<g id=\"node4\" class=\"node\"><title>2</title>\n",
       "<ellipse fill=\"none\" stroke=\"black\" cx=\"166\" cy=\"-18\" rx=\"18\" ry=\"18\"/>\n",
       "<text text-anchor=\"middle\" x=\"166\" y=\"-14.3\" font-family=\"Times,serif\" font-size=\"14.00\">c</text>\n",
       "</g>\n",
       "<!-- 3 -->\n",
       "<g id=\"node5\" class=\"node\"><title>3</title>\n",
       "<ellipse fill=\"none\" stroke=\"black\" cx=\"256\" cy=\"-18\" rx=\"18\" ry=\"18\"/>\n",
       "<text text-anchor=\"middle\" x=\"256\" y=\"-14.3\" font-family=\"Times,serif\" font-size=\"14.00\">b</text>\n",
       "</g>\n",
       "<!-- 2&#45;&gt;3 -->\n",
       "<g id=\"edge3\" class=\"edge\"><title>2&#45;&gt;3</title>\n",
       "<path fill=\"none\" stroke=\"black\" d=\"M184.386,-18C196.76,-18 213.631,-18 227.78,-18\"/>\n",
       "<polygon fill=\"black\" stroke=\"black\" points=\"227.95,-21.5001 237.95,-18 227.95,-14.5001 227.95,-21.5001\"/>\n",
       "<text text-anchor=\"middle\" x=\"211\" y=\"-21.8\" font-family=\"Times,serif\" font-size=\"14.00\">0.0</text>\n",
       "</g>\n",
       "<!-- 3&#45;&gt;4 -->\n",
       "<g id=\"edge4\" class=\"edge\"><title>3&#45;&gt;4</title>\n",
       "<path fill=\"none\" stroke=\"black\" d=\"M274.386,-18C286.76,-18 303.631,-18 317.78,-18\"/>\n",
       "<polygon fill=\"black\" stroke=\"black\" points=\"317.95,-21.5001 327.95,-18 317.95,-14.5001 317.95,-21.5001\"/>\n",
       "<text text-anchor=\"middle\" x=\"301\" y=\"-21.8\" font-family=\"Times,serif\" font-size=\"14.00\">0.0</text>\n",
       "</g>\n",
       "<!-- 1&#45;&gt;2 -->\n",
       "<g id=\"edge5\" class=\"edge\"><title>1&#45;&gt;2</title>\n",
       "<path fill=\"none\" stroke=\"black\" d=\"M94.386,-18C106.76,-18 123.631,-18 137.78,-18\"/>\n",
       "<polygon fill=\"black\" stroke=\"black\" points=\"137.95,-21.5001 147.95,-18 137.95,-14.5001 137.95,-21.5001\"/>\n",
       "<text text-anchor=\"middle\" x=\"121\" y=\"-21.8\" font-family=\"Times,serif\" font-size=\"14.00\">0.0</text>\n",
       "</g>\n",
       "</g>\n",
       "</svg>\n"
      ],
      "text/plain": [
       "Graph(Dict{Union{Missing, HiddenMarkovModel.FinalStateID, HiddenMarkovModel.InitStateID, Int64},State}(4 => State(id = 4, pdfindex = 1, a),finalstateid => State(id = finalstateid, pdfindex = nothing, finalstateid),initstateid => State(id = initstateid, pdfindex = nothing, initstateid),2 => State(id = 2, pdfindex = 3, c),3 => State(id = 3, pdfindex = 2, b),1 => State(id = 1, pdfindex = 1, a)))"
      ]
     },
     "execution_count": 29,
     "metadata": {},
     "output_type": "execute_result"
    }
   ],
   "source": [
    "path = viterbi(g, llh)"
   ]
  },
  {
   "cell_type": "code",
   "execution_count": 30,
   "metadata": {},
   "outputs": [
    {
     "data": {
      "text/plain": [
       "Dict{Union{Missing, HiddenMarkovModel.FinalStateID, HiddenMarkovModel.InitStateID, Int64},State} with 7 entries:\n",
       "  7            => State(id = 7, pdfindex = 2, b)\n",
       "  4            => State(id = 4, pdfindex = 1, a)\n",
       "  finalstateid => State(id = finalstateid, pdfindex = nothing, finalstateid)\n",
       "  initstateid  => State(id = initstateid, pdfindex = nothing, initstateid)\n",
       "  2            => State(id = 2, pdfindex = 3, c)\n",
       "  5            => State(id = 5, pdfindex = 1, a)\n",
       "  6            => State(id = 6, pdfindex = 4, d)"
      ]
     },
     "execution_count": 30,
     "metadata": {},
     "output_type": "execute_result"
    }
   ],
   "source": [
    "g.states"
   ]
  },
  {
   "cell_type": "code",
   "execution_count": 31,
   "metadata": {},
   "outputs": [
    {
     "data": {
      "text/plain": [
       "4×4 Array{Float64,2}:\n",
       " 1.0  0.337556  0.355641  1.0\n",
       " 0.0  0.0       0.644359  0.0\n",
       " 0.0  0.611592  0.0       0.0\n",
       " 0.0  0.050852  0.0       0.0"
      ]
     },
     "execution_count": 31,
     "metadata": {},
     "output_type": "execute_result"
    }
   ],
   "source": [
    "lnαβ = αβrecursion(g, llh, pruning = 2.1) # the lower the more pruning \n",
    "exp.(lnαβ)"
   ]
  },
  {
   "cell_type": "code",
   "execution_count": 32,
   "metadata": {},
   "outputs": [
    {
     "data": {
      "text/plain": [
       "((3, 1), 3)"
      ]
     },
     "execution_count": 32,
     "metadata": {},
     "output_type": "execute_result"
    }
   ],
   "source": [
    "v = [(1, 3), (2, 2), (3, 1)]\n",
    "findmax(v)"
   ]
  },
  {
   "cell_type": "code",
   "execution_count": null,
   "metadata": {},
   "outputs": [],
   "source": []
  }
 ],
 "metadata": {
  "kernelspec": {
   "display_name": "Julia 1.4.2",
   "language": "julia",
   "name": "julia-1.4"
  },
  "language_info": {
   "file_extension": ".jl",
   "mimetype": "application/julia",
   "name": "julia",
   "version": "1.4.2"
  }
 },
 "nbformat": 4,
 "nbformat_minor": 4
}
