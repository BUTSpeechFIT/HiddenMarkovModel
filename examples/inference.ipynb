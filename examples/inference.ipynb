{
 "cells": [
  {
   "cell_type": "code",
   "execution_count": 1,
   "metadata": {},
   "outputs": [
    {
     "name": "stderr",
     "output_type": "stream",
     "text": [
      "\u001b[32m\u001b[1m  Activating\u001b[22m\u001b[39m environment at `~/Repositories/MarkovModels.jl/Project.toml`\n",
      "┌ Info: Precompiling Plots [91a5bcdd-55d7-5caf-9e0b-520d859cae80]\n",
      "└ @ Base loading.jl:1317\n",
      "┌ Info: Precompiling MarkovModels [c2ae6250-d0a1-11ea-0991-234599ce5244]\n",
      "└ @ Base loading.jl:1317\n"
     ]
    }
   ],
   "source": [
    "using Pkg\n",
    "Pkg.activate(\"../\")\n",
    "\n",
    "using Plots\n",
    "\n",
    "using LinearAlgebra\n",
    "using SparseArrays\n",
    "using BenchmarkTools\n",
    "\n",
    "using Revise\n",
    "using MarkovModels"
   ]
  },
  {
   "cell_type": "code",
   "execution_count": 3,
   "metadata": {},
   "outputs": [],
   "source": [
    "S = 1000 # Number of states\n",
    "N = 100 # Number of frames\n",
    "SF = LogSemifield{Float64}  # Semi-Field for inference\n",
    "lhs = rand(S, N) # simulated likelihoods\n",
    "\n",
    "# Construct a HMM with S states and a left-to-right topology.\n",
    "function make_hmm(S)\n",
    "    pinit = zeros(SF, S)\n",
    "    pinit[1] = one(SF)\n",
    "    pfinal = zeros(SF, S)\n",
    "    pfinal[3] = one(SF)\n",
    "    prob = ones(SF, S) .* SF(log(1/2))\n",
    "    A = diagm(0 => prob, 1 => prob[1:end-1])\n",
    "    (π=pinit, ω=pfinal, A=A)\n",
    "end\n",
    "\n",
    "# Construct a HMM with S states and a left-to-right topology.\n",
    "# Use a sparse matrix for the transition.\n",
    "function make_hmm_sparse(S)\n",
    "    pinit = spzeros(SF, S)\n",
    "    pinit[1] = one(SF)\n",
    "    pfinal = spzeros(SF, S)\n",
    "    pfinal[3] = one(SF)\n",
    "    prob = ones(SF, S) .* SF(log(1/2))\n",
    "    A = spdiagm(0 => prob, 1 => prob[1:end-1])\n",
    "    dists = MarkovModels.calculate_distances(pfinal, A)\n",
    "    (π=pinit, ω=pfinal, A=A, dists=dists)\n",
    "end\n",
    "\n",
    "hmm = make_hmm(S)\n",
    "sphmm = make_hmm_sparse(S);"
   ]
  },
  {
   "cell_type": "code",
   "execution_count": 27,
   "metadata": {},
   "outputs": [
    {
     "data": {
      "text/plain": [
       "(SemifieldAlgebra.Semifield{Float64, LogExpFunctions.logaddexp, +, -, -Inf, 0}[0.0 -0.051498712563327054 … -Inf -Inf; -Inf -2.9918373242276095 … -1.6496239631702703 -Inf; -Inf -Inf … -0.21334439530263882 0.0], 4.505753122328786)"
      ]
     },
     "metadata": {},
     "output_type": "display_data"
    },
    {
     "data": {
      "text/plain": [
       "(\n",
       "  0.0  -0.0514987  -0.166238  -0.380165  …   -4.20085        ⋅     ⋅  \n",
       "  ⋅      -2.99184   -1.89634   -1.18414     -0.816043   -1.64962   ⋅  \n",
       "  ⋅           ⋅     -5.79659   -4.58115     -0.610942  -0.213344   0.0, 4.505753122328786)"
      ]
     },
     "metadata": {},
     "output_type": "display_data"
    }
   ],
   "source": [
    "test_lhs = rand(3, 10)\n",
    "hmm = make_hmm(3)\n",
    "sphmm = make_hmm_sparse(3);\n",
    "display(αβrecursion(hmm.π, hmm.ω, hmm.A, convert(Matrix{SF}, test_lhs)))\n",
    "display(αβrecursion(sphmm.π, sphmm.ω, sphmm.A, convert(Matrix{SF}, test_lhs), \n",
    "                    pruning = SF(Inf), distances = sphmm.dists))"
   ]
  },
  {
   "cell_type": "code",
   "execution_count": 23,
   "metadata": {},
   "outputs": [],
   "source": [
    "hmm = make_hmm(S)\n",
    "sphmm = make_hmm_sparse(S);"
   ]
  },
  {
   "cell_type": "code",
   "execution_count": 6,
   "metadata": {},
   "outputs": [
    {
     "data": {
      "text/plain": [
       "BenchmarkTools.Trial: \n",
       "  memory estimate:  6.16 MiB\n",
       "  allocs estimate:  220\n",
       "  --------------\n",
       "  minimum time:     12.346 s (0.00% GC)\n",
       "  median time:      12.346 s (0.00% GC)\n",
       "  mean time:        12.346 s (0.00% GC)\n",
       "  maximum time:     12.346 s (0.00% GC)\n",
       "  --------------\n",
       "  samples:          1\n",
       "  evals/sample:     1"
      ]
     },
     "execution_count": 6,
     "metadata": {},
     "output_type": "execute_result"
    }
   ],
   "source": [
    "@benchmark αβrecursion(hmm.π, hmm.ω, hmm.A, convert(Matrix{SF}, lhs))"
   ]
  },
  {
   "cell_type": "code",
   "execution_count": 25,
   "metadata": {},
   "outputs": [
    {
     "data": {
      "text/plain": [
       "BenchmarkTools.Trial: \n",
       "  memory estimate:  23.46 MiB\n",
       "  allocs estimate:  649509\n",
       "  --------------\n",
       "  minimum time:     78.383 ms (0.00% GC)\n",
       "  median time:      120.188 ms (3.22% GC)\n",
       "  mean time:        112.430 ms (2.28% GC)\n",
       "  maximum time:     145.593 ms (3.82% GC)\n",
       "  --------------\n",
       "  samples:          45\n",
       "  evals/sample:     1"
      ]
     },
     "execution_count": 25,
     "metadata": {},
     "output_type": "execute_result"
    }
   ],
   "source": [
    "@benchmark αβrecursion(sphmm.π, sphmm.ω, sphmm.A, convert(Matrix{SF}, lhs), \n",
    "                       pruning = SF(10), distances = sphmm.dists)"
   ]
  },
  {
   "cell_type": "code",
   "execution_count": 26,
   "metadata": {},
   "outputs": [
    {
     "data": {
      "text/plain": [
       "BenchmarkTools.Trial: \n",
       "  memory estimate:  25.40 MiB\n",
       "  allocs estimate:  650336\n",
       "  --------------\n",
       "  minimum time:     174.870 ms (0.00% GC)\n",
       "  median time:      213.918 ms (2.29% GC)\n",
       "  mean time:        210.286 ms (1.81% GC)\n",
       "  maximum time:     225.599 ms (2.20% GC)\n",
       "  --------------\n",
       "  samples:          24\n",
       "  evals/sample:     1"
      ]
     },
     "execution_count": 26,
     "metadata": {},
     "output_type": "execute_result"
    }
   ],
   "source": [
    "@benchmark αβrecursion(sphmm.π, sphmm.ω, sphmm.A, convert(Matrix{SF}, lhs), \n",
    "                       pruning = SF(Inf), distances = sphmm.dists)"
   ]
  },
  {
   "cell_type": "code",
   "execution_count": 152,
   "metadata": {},
   "outputs": [
    {
     "data": {
      "text/plain": [
       "1000×1000 SparseMatrixCSC{SemifieldAlgebra.Semifield{Float64, LogExpFunctions.logaddexp, +, -, -Inf, 0}, Int64} with 2997 stored entries:\n",
       "⠉⠉⠉⠉⠉⠉⠉⠉⠉⠉⠉⠉⠉⠉⠉⠉⠉⠉⠉⠉⠉⠉⠉⠉⠉⠉⠉⠉⠉⠉⠉⠉⠉⠉⠉⠉⠉⠉⠉⠉\n",
       "⠀⠀⠀⠀⠀⠀⠀⠀⠀⠀⠀⠀⠀⠀⠀⠀⠀⠀⠀⠀⠀⠀⠀⠀⠀⠀⠀⠀⠀⠀⠀⠀⠀⠀⠀⠀⠀⠀⠀⠀\n",
       "⠀⠀⠀⠀⠀⠀⠀⠀⠀⠀⠀⠀⠀⠀⠀⠀⠀⠀⠀⠀⠀⠀⠀⠀⠀⠀⠀⠀⠀⠀⠀⠀⠀⠀⠀⠀⠀⠀⠀⠀\n",
       "⠀⠀⠀⠀⠀⠀⠀⠀⠀⠀⠀⠀⠀⠀⠀⠀⠀⠀⠀⠀⠀⠀⠀⠀⠀⠀⠀⠀⠀⠀⠀⠀⠀⠀⠀⠀⠀⠀⠀⠀\n",
       "⠀⠀⠀⠀⠀⠀⠀⠀⠀⠀⠀⠀⠀⠀⠀⠀⠀⠀⠀⠀⠀⠀⠀⠀⠀⠀⠀⠀⠀⠀⠀⠀⠀⠀⠀⠀⠀⠀⠀⠀\n",
       "⠀⠀⠀⠀⠀⠀⠀⠀⠀⠀⠀⠀⠀⠀⠀⠀⠀⠀⠀⠀⠀⠀⠀⠀⠀⠀⠀⠀⠀⠀⠀⠀⠀⠀⠀⠀⠀⠀⠀⠀\n",
       "⠀⠀⠀⠀⠀⠀⠀⠀⠀⠀⠀⠀⠀⠀⠀⠀⠀⠀⠀⠀⠀⠀⠀⠀⠀⠀⠀⠀⠀⠀⠀⠀⠀⠀⠀⠀⠀⠀⠀⠀\n",
       "⠀⠀⠀⠀⠀⠀⠀⠀⠀⠀⠀⠀⠀⠀⠀⠀⠀⠀⠀⠀⠀⠀⠀⠀⠀⠀⠀⠀⠀⠀⠀⠀⠀⠀⠀⠀⠀⠀⠀⠀\n",
       "⠀⠀⠀⠀⠀⠀⠀⠀⠀⠀⠀⠀⠀⠀⠀⠀⠀⠀⠀⠀⠀⠀⠀⠀⠀⠀⠀⠀⠀⠀⠀⠀⠀⠀⠀⠀⠀⠀⠀⠀\n",
       "⠀⠀⠀⠀⠀⠀⠀⠀⠀⠀⠀⠀⠀⠀⠀⠀⠀⠀⠀⠀⠀⠀⠀⠀⠀⠀⠀⠀⠀⠀⠀⠀⠀⠀⠀⠀⠀⠀⠀⠀\n",
       "⠀⠀⠀⠀⠀⠀⠀⠀⠀⠀⠀⠀⠀⠀⠀⠀⠀⠀⠀⠀⠀⠀⠀⠀⠀⠀⠀⠀⠀⠀⠀⠀⠀⠀⠀⠀⠀⠀⠀⠀\n",
       "⠀⠀⠀⠀⠀⠀⠀⠀⠀⠀⠀⠀⠀⠀⠀⠀⠀⠀⠀⠀⠀⠀⠀⠀⠀⠀⠀⠀⠀⠀⠀⠀⠀⠀⠀⠀⠀⠀⠀⠀\n",
       "⠀⠀⠀⠀⠀⠀⠀⠀⠀⠀⠀⠀⠀⠀⠀⠀⠀⠀⠀⠀⠀⠀⠀⠀⠀⠀⠀⠀⠀⠀⠀⠀⠀⠀⠀⠀⠀⠀⠀⠀\n",
       "⠀⠀⠀⠀⠀⠀⠀⠀⠀⠀⠀⠀⠀⠀⠀⠀⠀⠀⠀⠀⠀⠀⠀⠀⠀⠀⠀⠀⠀⠀⠀⠀⠀⠀⠀⠀⠀⠀⠀⠀\n",
       "⠀⠀⠀⠀⠀⠀⠀⠀⠀⠀⠀⠀⠀⠀⠀⠀⠀⠀⠀⠀⠀⠀⠀⠀⠀⠀⠀⠀⠀⠀⠀⠀⠀⠀⠀⠀⠀⠀⠀⠀\n",
       "⠀⠀⠀⠀⠀⠀⠀⠀⠀⠀⠀⠀⠀⠀⠀⠀⠀⠀⠀⠀⠀⠀⠀⠀⠀⠀⠀⠀⠀⠀⠀⠀⠀⠀⠀⠀⠀⠀⠀⠀\n",
       "⠀⠀⠀⠀⠀⠀⠀⠀⠀⠀⠀⠀⠀⠀⠀⠀⠀⠀⠀⠀⠀⠀⠀⠀⠀⠀⠀⠀⠀⠀⠀⠀⠀⠀⠀⠀⠀⠀⠀⠀\n",
       "⠀⠀⠀⠀⠀⠀⠀⠀⠀⠀⠀⠀⠀⠀⠀⠀⠀⠀⠀⠀⠀⠀⠀⠀⠀⠀⠀⠀⠀⠀⠀⠀⠀⠀⠀⠀⠀⠀⠀⠀\n",
       "⠀⠀⠀⠀⠀⠀⠀⠀⠀⠀⠀⠀⠀⠀⠀⠀⠀⠀⠀⠀⠀⠀⠀⠀⠀⠀⠀⠀⠀⠀⠀⠀⠀⠀⠀⠀⠀⠀⠀⠀\n",
       "⠀⠀⠀⠀⠀⠀⠀⠀⠀⠀⠀⠀⠀⠀⠀⠀⠀⠀⠀⠀⠀⠀⠀⠀⠀⠀⠀⠀⠀⠀⠀⠀⠀⠀⠀⠀⠀⠀⠀⠀"
      ]
     },
     "execution_count": 152,
     "metadata": {},
     "output_type": "execute_result"
    }
   ],
   "source": [
    "αβrecursion(sphmm.π, sphmm.ω, sphmm.A, convert(Matrix{SF}, lhs), \n",
    "            pruning = SF(1), distances = sphmm.dists)"
   ]
  },
  {
   "cell_type": "code",
   "execution_count": 131,
   "metadata": {},
   "outputs": [
    {
     "data": {
      "text/plain": [
       "BenchmarkTools.Trial: \n",
       "  memory estimate:  1.88 GiB\n",
       "  allocs estimate:  6568963\n",
       "  --------------\n",
       "  minimum time:     1.992 s (5.06% GC)\n",
       "  median time:      2.007 s (5.24% GC)\n",
       "  mean time:        2.017 s (5.40% GC)\n",
       "  maximum time:     2.051 s (5.88% GC)\n",
       "  --------------\n",
       "  samples:          3\n",
       "  evals/sample:     1"
      ]
     },
     "execution_count": 131,
     "metadata": {},
     "output_type": "execute_result"
    }
   ],
   "source": [
    "@benchmark αβrecursion(sphmm.π, sphmm.ω, sphmm.A, convert(Matrix{SF}, lhs), \n",
    "                       pruning = SF(100), distances = sphmm.dists)"
   ]
  },
  {
   "cell_type": "code",
   "execution_count": 132,
   "metadata": {},
   "outputs": [
    {
     "data": {
      "text/plain": [
       "BenchmarkTools.Trial: \n",
       "  memory estimate:  2.82 GiB\n",
       "  allocs estimate:  7064008\n",
       "  --------------\n",
       "  minimum time:     3.287 s (4.34% GC)\n",
       "  median time:      3.537 s (4.47% GC)\n",
       "  mean time:        3.537 s (4.47% GC)\n",
       "  maximum time:     3.787 s (4.59% GC)\n",
       "  --------------\n",
       "  samples:          2\n",
       "  evals/sample:     1"
      ]
     },
     "execution_count": 132,
     "metadata": {},
     "output_type": "execute_result"
    }
   ],
   "source": [
    "@benchmark αβrecursion(sphmm.π, sphmm.ω, sphmm.A, convert(Matrix{SF}, lhs), \n",
    "                       pruning = SF(1000), distances = sphmm.dists)"
   ]
  },
  {
   "cell_type": "code",
   "execution_count": 181,
   "metadata": {},
   "outputs": [
    {
     "ename": "LoadError",
     "evalue": "TypeError: in keyword argument pruning, expected Number, got a value of type ThresholdPruning",
     "output_type": "error",
     "traceback": [
      "TypeError: in keyword argument pruning, expected Number, got a value of type ThresholdPruning",
      "",
      "Stacktrace:",
      " [1] top-level scope at In[181]:1",
      " [2] include_string(::Function, ::Module, ::String, ::String) at ./loading.jl:1091"
     ]
    }
   ],
   "source": [
    "lnαβ = αβrecursion(cfsm, llh, pruning = ThresholdPruning(50))\n",
    "γ = resps(fsm, lnαβ)\n",
    "\n",
    "p = plot()\n",
    "plot!(p, γ[1], label = \"p(z = 1|X)\")\n",
    "plot!(p, γ[2], label = \"p(z = 2|X)\")\n",
    "plot!(p, γ[3], label = \"p(z = 3|X)\")"
   ]
  },
  {
   "cell_type": "code",
   "execution_count": 150,
   "metadata": {},
   "outputs": [
    {
     "ename": "LoadError",
     "evalue": "type CompiledFSM has no field pdfidx_map",
     "output_type": "error",
     "traceback": [
      "type CompiledFSM has no field pdfidx_map",
      "",
      "Stacktrace:",
      " [1] getproperty(::MarkovModels.CompiledFSM{MarkovModels.Semifield{Float64,StatsFuns.logaddexp,+,-,-Inf,0.0}}, ::Symbol) at ./Base.jl:33",
      " [2] top-level scope at In[150]:4",
      " [3] include_string(::Function, ::Module, ::String, ::String) at ./loading.jl:1091"
     ]
    }
   ],
   "source": [
    "using SparseArrays\n",
    "\n",
    "L = eltype(cfsm.A)\n",
    "L_llh = convert(Matrix{L}, llh[cfsm.pdfidx_map, :])"
   ]
  },
  {
   "cell_type": "code",
   "execution_count": 51,
   "metadata": {},
   "outputs": [
    {
     "data": {
      "text/plain": [
       "2×2 SparseMatrixCSC{MarkovModels.Semifield{Float64,StatsFuns.logaddexp,+,-,-Inf,0.0},Int64} with 2 stored entries:\n",
       "  [1, 1]  =  -Inf\n",
       "  [2, 2]  =  -Inf"
      ]
     },
     "execution_count": 51,
     "metadata": {},
     "output_type": "execute_result"
    }
   ],
   "source": [
    "S = 3\n",
    "spzeros(S,S)\n"
   ]
  },
  {
   "cell_type": "code",
   "execution_count": 28,
   "metadata": {},
   "outputs": [
    {
     "data": {
      "text/plain": [
       "3×5 SparseMatrixCSC{MarkovModels.Semifield{Float64,StatsFuns.logaddexp,+,-,-Inf,0.0},Int64} with 12 stored entries:\n",
       "  [2, 1]  =  1.99648\n",
       "  [2, 2]  =  0.273776\n",
       "  [3, 2]  =  0.102643\n",
       "  [1, 3]  =  -0.834499\n",
       "  [2, 3]  =  -0.663367\n",
       "  [3, 3]  =  2.32829\n",
       "  [1, 4]  =  0.267885\n",
       "  [2, 4]  =  -2.76521\n",
       "  [3, 4]  =  0.478586\n",
       "  [1, 5]  =  -0.356424\n",
       "  [2, 5]  =  -4.19355\n",
       "  [3, 5]  =  0.386524"
      ]
     },
     "execution_count": 28,
     "metadata": {},
     "output_type": "execute_result"
    }
   ],
   "source": [
    "α = sparse(zeros(L, MarkovModels.nstates(cfsm), size(L_llh, 2)))\n",
    "Aᵀ = transpose(cfsm.A)\n",
    "α[:, 1] = L_llh[:, 1] .* cfsm.π\n",
    "for n in 2:N\n",
    "    α[:, n] = (Aᵀ * α[:, n-1]) .* L_llh[:, n]\n",
    "end\n",
    "α"
   ]
  },
  {
   "cell_type": "markdown",
   "metadata": {},
   "source": [
    "```python\n",
    "    def _baum_welch_backward(self, llhs):\n",
    "        log_trans_mat = self.trans_log_probs\n",
    "        log_betas = torch.zeros_like(llhs) - float('inf')\n",
    "        log_betas[-1] = self.final_log_probs\n",
    "        for i in reversed(range(llhs.shape[0]-1)):\n",
    "            log_betas[i] = torch.logsumexp(log_trans_mat + llhs[i+1] + \\\n",
    "                           log_betas[i+1], dim=1).view(-1)\n",
    "        return log_betas\n",
    "```"
   ]
  },
  {
   "cell_type": "code",
   "execution_count": 24,
   "metadata": {},
   "outputs": [
    {
     "data": {
      "text/plain": [
       "3×5 Array{MarkovModels.Semifield{Float64,StatsFuns.logaddexp,+,-,-Inf,0.0},2}:\n",
       " 1.84497  -0.458353  0.264346  0.201489  1.30333\n",
       "  5.6821    2.77162    0.4675      -Inf     -Inf\n",
       " 1.25362    2.59154   3.44464  0.404642     -Inf"
      ]
     },
     "execution_count": 24,
     "metadata": {},
     "output_type": "execute_result"
    }
   ],
   "source": [
    "β = sparse(zeros(L, MarkovModels.nstates(cfsm), size(L_llh, 2)))\n",
    "A = cfsm.A\n",
    "β[:, end] = L_llh[:, 1] .* cfsm.ω\n",
    "for n in N-1:-1:1\n",
    "    β[:, n] = (A * β[:, n+1] .* L_llh[:, n])\n",
    "end\n",
    "β"
   ]
  },
  {
   "cell_type": "code",
   "execution_count": 27,
   "metadata": {},
   "outputs": [
    {
     "data": {
      "text/plain": [
       "3×5 Array{MarkovModels.Semifield{Float64,StatsFuns.logaddexp,+,-,-Inf,0.0},2}:\n",
       " -Inf       -Inf     -6.34738  -0.921333   0.0\n",
       "  0.0   -0.53288      -5.9731       -Inf  -Inf\n",
       " -Inf  -0.884095  -0.00430692  -0.507478  -Inf"
      ]
     },
     "execution_count": 27,
     "metadata": {},
     "output_type": "execute_result"
    }
   ],
   "source": [
    "γ = α .* β ./ sum(γ, dims=1)\n",
    "#exp.(Matrix{Float64}(γ))"
   ]
  },
  {
   "cell_type": "code",
   "execution_count": 26,
   "metadata": {},
   "outputs": [],
   "source": [
    "using SparseArrays"
   ]
  },
  {
   "cell_type": "code",
   "execution_count": 35,
   "metadata": {},
   "outputs": [
    {
     "data": {
      "text/plain": [
       "3×3 Transpose{MarkovModels.Semiring{Float64,StatsFuns.logaddexp,+,-Inf,0},SparseMatrixCSC{MarkovModels.Semiring{Float64,StatsFuns.logaddexp,+,-Inf,0},Int64}}:\n",
       " -0.693147       -Inf       -Inf\n",
       " -0.693147  -0.693147       -Inf\n",
       "      -Inf  -0.693147  -0.693147"
      ]
     },
     "execution_count": 35,
     "metadata": {},
     "output_type": "execute_result"
    }
   ],
   "source": [
    "state_set = Set( s for s in filter(isemitting, collect(states(fsm))))\n",
    "S = length(state_set)\n",
    "\n",
    "A = sparse(zeros(LogSemiring{Float64}, S, S))\n",
    "\n",
    "for s in state_set\n",
    "    for (ns, weightpath) in MarkovModels.nextemittingstates(s)\n",
    "        A[s.pdfindex, ns.pdfindex] = weightpath\n",
    "    end\n",
    "end\n",
    "\n",
    "A \n",
    "Aᵀ = transpose(A)"
   ]
  },
  {
   "cell_type": "code",
   "execution_count": 67,
   "metadata": {},
   "outputs": [
    {
     "data": {
      "text/plain": [
       "Dict{State,Float64} with 1 entry:\n",
       "  State(2, 3, c, Link[...]) => -0.693147"
      ]
     },
     "execution_count": 67,
     "metadata": {},
     "output_type": "execute_result"
    }
   ],
   "source": [
    "startstates = Dict(s => w for (s,w) in MarkovModels.nextemittingstates(initstate(fsm)))\n",
    "endstates = Dict(s => w for (s,w) in MarkovModels.nextemittingstates(initstate(transpose(fsm))))"
   ]
  },
  {
   "cell_type": "code",
   "execution_count": 68,
   "metadata": {},
   "outputs": [],
   "source": [
    "ls_llh = [convert(Vector{LogSemiring{Float64}}, col) for col in eachcol(llh) ]\n",
    "\n",
    "α = [sparse(zeros(LogSemiring{Float64}, S))]\n",
    "for (s,w) in startstates \n",
    "    α[1][s.pdfindex] = LogSemiring{Float64}(w) * ls_llh[1][s.pdfindex]\n",
    "end \n",
    "\n",
    "for n in 2:N \n",
    "    push!(α, (Aᵀ * α[end]) .* ls_llh[n] ) \n",
    "end"
   ]
  },
  {
   "cell_type": "code",
   "execution_count": 69,
   "metadata": {},
   "outputs": [
    {
     "data": {
      "text/plain": [
       "5-element Array{SparseVector{MarkovModels.Semiring{Float64,StatsFuns.logaddexp,+,-Inf,0},Int64},1}:\n",
       "   [1]  =  0.39235\n",
       "   [1]  =  -0.29094\n",
       "  [2]  =  -0.383922\n",
       "   [1]  =  0.0662038\n",
       "  [2]  =  -0.310888\n",
       "  [3]  =  -2.50271\n",
       "   [1]  =  -1.05058\n",
       "  [2]  =  -2.04096\n",
       "  [3]  =  0.291114\n",
       "   [1]  =  -1.85019\n",
       "  [2]  =  0.406191\n",
       "  [3]  =  1.38859"
      ]
     },
     "execution_count": 69,
     "metadata": {},
     "output_type": "execute_result"
    }
   ],
   "source": [
    "α"
   ]
  },
  {
   "cell_type": "code",
   "execution_count": 70,
   "metadata": {},
   "outputs": [
    {
     "ename": "LoadError",
     "evalue": "UndefVarError: lnα not defined",
     "output_type": "error",
     "traceback": [
      "UndefVarError: lnα not defined",
      "",
      "Stacktrace:",
      " [1] top-level scope",
      " [2] include_string(::Function, ::Module, ::String, ::String) at ./loading.jl:1091"
     ]
    }
   ],
   "source": [
    "lnα"
   ]
  },
  {
   "cell_type": "code",
   "execution_count": 40,
   "metadata": {},
   "outputs": [
    {
     "data": {
      "text/plain": [
       "3-element Array{MarkovModels.Semiring{Float64,StatsFuns.logaddexp,+,-Inf,0},1}:\n",
       "   2.2832521142797293\n",
       "   -1.831520532078208\n",
       " -0.42362611074623524"
      ]
     },
     "execution_count": 40,
     "metadata": {},
     "output_type": "execute_result"
    }
   ],
   "source": [
    "ls_llh[1]"
   ]
  },
  {
   "cell_type": "code",
   "execution_count": 41,
   "metadata": {},
   "outputs": [
    {
     "data": {
      "text/plain": [
       "3×3 SparseMatrixCSC{MarkovModels.Semiring{Float64,StatsFuns.logaddexp,+,-Inf,0},Int64} with 5 stored entries:\n",
       "  [1, 1]  =  -0.693147\n",
       "  [1, 2]  =  -0.693147\n",
       "  [2, 2]  =  -0.693147\n",
       "  [2, 3]  =  -0.693147\n",
       "  [3, 3]  =  -0.693147"
      ]
     },
     "execution_count": 41,
     "metadata": {},
     "output_type": "execute_result"
    }
   ],
   "source": [
    "A"
   ]
  },
  {
   "cell_type": "code",
   "execution_count": null,
   "metadata": {},
   "outputs": [],
   "source": [
    "statemap"
   ]
  }
 ],
 "metadata": {
  "kernelspec": {
   "display_name": "Julia 1.6.0",
   "language": "julia",
   "name": "julia-1.6"
  },
  "language_info": {
   "file_extension": ".jl",
   "mimetype": "application/julia",
   "name": "julia",
   "version": "1.6.0"
  }
 },
 "nbformat": 4,
 "nbformat_minor": 4
}
