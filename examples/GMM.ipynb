{
 "cells": [
  {
   "cell_type": "code",
   "execution_count": 3,
   "metadata": {},
   "outputs": [
    {
     "name": "stderr",
     "output_type": "stream",
     "text": [
      "\u001b[32m\u001b[1m Activating\u001b[22m\u001b[39m environment at `/mnt/matylda3/ikocour/HiddenMarkovModel/Project.toml`\n"
     ]
    }
   ],
   "source": [
    "using Pkg\n",
    "Pkg.activate(\"../\")\n",
    "\n",
    "using Revise\n",
    "using HiddenMarkovModel"
   ]
  },
  {
   "cell_type": "code",
   "execution_count": 5,
   "metadata": {},
   "outputs": [
    {
     "data": {
      "text/plain": [
       "42-element Array{Float64,1}:\n",
       " 0.09906677589385958\n",
       " 0.0036816605453356514\n",
       " 0.11800344615594381\n",
       " 0.0008933610150143949\n",
       " 0.0032415224290777015\n",
       " 0.02438627638123945\n",
       " 0.003895429135815981\n",
       " 0.08271032717419538\n",
       " 0.04027582252654482\n",
       " 0.0663420372112898\n",
       " 0.10906418860007605\n",
       " 0.015965918134160848\n",
       " 0.026827356248816273\n",
       " ⋮\n",
       " 0.11003460537310819\n",
       " 0.0683032662601018\n",
       " 0.12537219423225215\n",
       " 0.12744738957372923\n",
       " 0.04943016781127091\n",
       " 0.015128781586413318\n",
       " 0.11150766709953555\n",
       " 0.06953504779538787\n",
       " 0.07308493151504224\n",
       " 0.007452937814454119\n",
       " 0.09786954819733287\n",
       " 0.004566207250821361"
      ]
     },
     "metadata": {},
     "output_type": "display_data"
    },
    {
     "data": {
      "text/plain": [
       "2.1895172900157367e-71"
      ]
     },
     "execution_count": 5,
     "metadata": {},
     "output_type": "execute_result"
    }
   ],
   "source": [
    "C,D,N = 3,2,42\n",
    "gmm = GMM(C, randn(D,N))\n",
    "X = randn(D,N)\n",
    "lhpf(gmm1, X) |> display\n",
    "avlh(gmm1, X)"
   ]
  },
  {
   "cell_type": "code",
   "execution_count": 7,
   "metadata": {},
   "outputs": [],
   "source": [
    "using Distributions"
   ]
  },
  {
   "cell_type": "code",
   "execution_count": 8,
   "metadata": {},
   "outputs": [
    {
     "name": "stdout",
     "output_type": "stream",
     "text": [
      "search: \u001b[0m\u001b[1mD\u001b[22m\u001b[0m\u001b[1mi\u001b[22m\u001b[0m\u001b[1ms\u001b[22m\u001b[0m\u001b[1mt\u001b[22m\u001b[0m\u001b[1mr\u001b[22m\u001b[0m\u001b[1mi\u001b[22m\u001b[0m\u001b[1mb\u001b[22m\u001b[0m\u001b[1mu\u001b[22m\u001b[0m\u001b[1mt\u001b[22m\u001b[0m\u001b[1mi\u001b[22m\u001b[0m\u001b[1mo\u001b[22m\u001b[0m\u001b[1mn\u001b[22m \u001b[0m\u001b[1mD\u001b[22m\u001b[0m\u001b[1mi\u001b[22m\u001b[0m\u001b[1ms\u001b[22m\u001b[0m\u001b[1mt\u001b[22m\u001b[0m\u001b[1mr\u001b[22m\u001b[0m\u001b[1mi\u001b[22m\u001b[0m\u001b[1mb\u001b[22m\u001b[0m\u001b[1mu\u001b[22m\u001b[0m\u001b[1mt\u001b[22m\u001b[0m\u001b[1mi\u001b[22m\u001b[0m\u001b[1mo\u001b[22m\u001b[0m\u001b[1mn\u001b[22ms Matrix\u001b[0m\u001b[1mD\u001b[22m\u001b[0m\u001b[1mi\u001b[22m\u001b[0m\u001b[1ms\u001b[22m\u001b[0m\u001b[1mt\u001b[22m\u001b[0m\u001b[1mr\u001b[22m\u001b[0m\u001b[1mi\u001b[22m\u001b[0m\u001b[1mb\u001b[22m\u001b[0m\u001b[1mu\u001b[22m\u001b[0m\u001b[1mt\u001b[22m\u001b[0m\u001b[1mi\u001b[22m\u001b[0m\u001b[1mo\u001b[22m\u001b[0m\u001b[1mn\u001b[22m NonMatrix\u001b[0m\u001b[1mD\u001b[22m\u001b[0m\u001b[1mi\u001b[22m\u001b[0m\u001b[1ms\u001b[22m\u001b[0m\u001b[1mt\u001b[22m\u001b[0m\u001b[1mr\u001b[22m\u001b[0m\u001b[1mi\u001b[22m\u001b[0m\u001b[1mb\u001b[22m\u001b[0m\u001b[1mu\u001b[22m\u001b[0m\u001b[1mt\u001b[22m\u001b[0m\u001b[1mi\u001b[22m\u001b[0m\u001b[1mo\u001b[22m\u001b[0m\u001b[1mn\u001b[22m\n",
      "\n"
     ]
    },
    {
     "data": {
      "text/latex": [
       "\\begin{verbatim}\n",
       "Distribution{F<:VariateForm,S<:ValueSupport} <: Sampleable{F,S}\n",
       "\\end{verbatim}\n",
       "\\texttt{Distribution} is a \\texttt{Sampleable} generating random values from a probability distribution. Distributions define a Probability Distribution Function (PDF) to implement with \\texttt{pdf} and a Cumulated Distribution Function (CDF) to implement with \\texttt{cdf}.\n",
       "\n"
      ],
      "text/markdown": [
       "```\n",
       "Distribution{F<:VariateForm,S<:ValueSupport} <: Sampleable{F,S}\n",
       "```\n",
       "\n",
       "`Distribution` is a `Sampleable` generating random values from a probability distribution. Distributions define a Probability Distribution Function (PDF) to implement with `pdf` and a Cumulated Distribution Function (CDF) to implement with `cdf`.\n"
      ],
      "text/plain": [
       "\u001b[36m  Distribution{F<:VariateForm,S<:ValueSupport} <: Sampleable{F,S}\u001b[39m\n",
       "\n",
       "  \u001b[36mDistribution\u001b[39m is a \u001b[36mSampleable\u001b[39m generating random values from a probability\n",
       "  distribution. Distributions define a Probability Distribution Function (PDF)\n",
       "  to implement with \u001b[36mpdf\u001b[39m and a Cumulated Distribution Function (CDF) to\n",
       "  implement with \u001b[36mcdf\u001b[39m."
      ]
     },
     "execution_count": 8,
     "metadata": {},
     "output_type": "execute_result"
    }
   ],
   "source": [
    "?Distribution"
   ]
  },
  {
   "cell_type": "code",
   "execution_count": null,
   "metadata": {},
   "outputs": [],
   "source": [
    "function train!(pdfs::Vector{Distribution}, hmm::HiddenMarkovModel, Xs::Vector{AbstractArray})\n",
    "    stats = [GmmStats(pdf) for pdf in pdfs]\n",
    "    tll_acc = 0\n",
    "    \n",
    "    for X in Xs\n",
    "        # E-step\n",
    "        llh = zeros(nstates(hmm), size(X,2))\n",
    "        for state in hmm\n",
    "            llh[state.id, :] = logpdf(state.d, X)\n",
    "        end\n",
    "        \n",
    "        γ, tll, logα, logβ = forward_backward(hmm.Tr, llh;\n",
    "            fs=nstates(hmm), π=[1.0; zeros(nstates(hmm)-1)])\n",
    "        \n",
    "        tll_acc += tll\n",
    "        \n",
    "        # accumulate statistics\n",
    "        for state in hmm\n",
    "            stats[state.id] += compute_stats(state.d, γ[state.id, :], X)\n",
    "        end\n",
    "    end\n",
    "    \n",
    "    # M-step\n",
    "    for state in hmm\n",
    "        hmm.G[state.id] = fit(state.d, stats[state.id])\n",
    "    end\n",
    "    # TODO: update Tr\n",
    "    return tll_acc/size(Xs,1)\n",
    "end"
   ]
  },
  {
   "cell_type": "code",
   "execution_count": 9,
   "metadata": {},
   "outputs": [
    {
     "name": "stdout",
     "output_type": "stream",
     "text": [
      "\"\u001b[36mαβrecursion\u001b[39m\" can be typed by \u001b[36m\\alpha<tab>\\beta<tab>recursion\u001b[39m\n",
      "\n",
      "search: \u001b[0m\u001b[1mα\u001b[22m\u001b[0m\u001b[1mβ\u001b[22m\u001b[0m\u001b[1mr\u001b[22m\u001b[0m\u001b[1me\u001b[22m\u001b[0m\u001b[1mc\u001b[22m\u001b[0m\u001b[1mu\u001b[22m\u001b[0m\u001b[1mr\u001b[22m\u001b[0m\u001b[1ms\u001b[22m\u001b[0m\u001b[1mi\u001b[22m\u001b[0m\u001b[1mo\u001b[22m\u001b[0m\u001b[1mn\u001b[22m\n",
      "\n"
     ]
    },
    {
     "data": {
      "text/latex": [
       "\\begin{verbatim}\n",
       "αβrecursion(graph, llh[, pruning = ...])\n",
       "\\end{verbatim}\n",
       "Baum-Welch algorithm in  the log domain.\n",
       "\n"
      ],
      "text/markdown": [
       "```\n",
       "αβrecursion(graph, llh[, pruning = ...])\n",
       "```\n",
       "\n",
       "Baum-Welch algorithm in  the log domain.\n"
      ],
      "text/plain": [
       "\u001b[36m  αβrecursion(graph, llh[, pruning = ...])\u001b[39m\n",
       "\n",
       "  Baum-Welch algorithm in the log domain."
      ]
     },
     "execution_count": 9,
     "metadata": {},
     "output_type": "execute_result"
    }
   ],
   "source": [
    "?αβrecursion"
   ]
  },
  {
   "cell_type": "code",
   "execution_count": null,
   "metadata": {},
   "outputs": [],
   "source": []
  }
 ],
 "metadata": {
  "kernelspec": {
   "display_name": "Julia 1.4.2",
   "language": "julia",
   "name": "julia-1.4"
  },
  "language_info": {
   "file_extension": ".jl",
   "mimetype": "application/julia",
   "name": "julia",
   "version": "1.4.2"
  }
 },
 "nbformat": 4,
 "nbformat_minor": 4
}
